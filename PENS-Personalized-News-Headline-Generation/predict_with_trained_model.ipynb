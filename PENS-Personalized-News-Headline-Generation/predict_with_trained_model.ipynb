{
 "cells": [
  {
   "cell_type": "code",
   "execution_count": 21,
   "id": "9cb1571d",
   "metadata": {},
   "outputs": [],
   "source": [
    "import torch\n",
    "import numpy as np"
   ]
  },
  {
   "cell_type": "markdown",
   "id": "aa8751b4",
   "metadata": {},
   "source": [
    "# Load Device"
   ]
  },
  {
   "cell_type": "code",
   "execution_count": 22,
   "id": "30e2e0b7",
   "metadata": {},
   "outputs": [],
   "source": [
    "import os\n",
    "os.environ[\"CUDA_VISIBLE_DEVICES\"] = \"0\"\n",
    "device = torch.device('cuda:0')"
   ]
  },
  {
   "cell_type": "markdown",
   "id": "3a784c78",
   "metadata": {},
   "source": [
    "# 获取测试用户和测试新闻"
   ]
  },
  {
   "cell_type": "code",
   "execution_count": 23,
   "id": "f990975c",
   "metadata": {},
   "outputs": [],
   "source": [
    "import pickle\n",
    "with open('./data2/TestUsers.pkl', 'rb') as f:\n",
    "    TestUsers = pickle.load(f)\n",
    "with open('./data2/TestSamples.pkl', 'rb') as f:\n",
    "    TestSamples = pickle.load(f)"
   ]
  },
  {
   "cell_type": "markdown",
   "id": "52934001",
   "metadata": {},
   "source": []
  },
  {
   "cell_type": "markdown",
   "id": "9a9bd36b",
   "metadata": {},
   "source": [
    "# 加载模型"
   ]
  },
  {
   "cell_type": "code",
   "execution_count": 24,
   "id": "f6ed8644",
   "metadata": {},
   "outputs": [
    {
     "data": {
      "text/plain": [
       "HeadlineGen(\n",
       "  (embeddings): Embedding(141910, 300)\n",
       "  (encoder): LSTMEncoder(\n",
       "    (embeddings): Embedding(141910, 300)\n",
       "    (rnn): LSTM(300, 64, batch_first=True, dropout=0.2, bidirectional=True)\n",
       "    (bridge): ModuleList(\n",
       "      (0-1): 2 x Linear(in_features=64, out_features=64, bias=True)\n",
       "    )\n",
       "  )\n",
       "  (decoder): Decoder_P(\n",
       "    (embeddings): Embedding(141910, 300)\n",
       "    (dropout): Dropout(p=0.2, inplace=False)\n",
       "    (rnn): LSTM(300, 128, batch_first=True)\n",
       "    (attention): Attention(\n",
       "      (linear_out): Linear(in_features=256, out_features=128, bias=True)\n",
       "    )\n",
       "    (transform): ModuleList(\n",
       "      (0-1): 2 x Linear(in_features=64, out_features=128, bias=True)\n",
       "    )\n",
       "    (out): Linear(in_features=128, out_features=141910, bias=True)\n",
       "    (p_gen_linear): Linear(in_features=128, out_features=1, bias=True)\n",
       "  )\n",
       "  (loss_fn): NLLLoss()\n",
       "  (dropout): Dropout(p=0.2, inplace=False)\n",
       ")"
      ]
     },
     "execution_count": 24,
     "metadata": {},
     "output_type": "execute_result"
    }
   ],
   "source": [
    "from pensmodule.Generator import *\n",
    "model_path = './runs/seq2seq/exp/checkpoint_train_mod4_step_1500.pth'\n",
    "\n",
    "def load_model_from_ckpt(path):\n",
    "    checkpoint = torch.load(path, weights_only= False)\n",
    "    model = checkpoint['model']\n",
    "    if torch.cuda.device_count() > 1:\n",
    "        print('multiple gpu training')\n",
    "        model = nn.DataParallel(model)\n",
    "    return model\n",
    "\n",
    "model = load_model_from_ckpt(model_path).to(device)\n",
    "model.eval()"
   ]
  },
  {
   "cell_type": "code",
   "execution_count": 25,
   "id": "c073026c",
   "metadata": {},
   "outputs": [
    {
     "data": {
      "text/plain": [
       "NRMS(\n",
       "  (embed): Embedding(141910, 300, padding_idx=0)\n",
       "  (attn_word): MultiHeadAttention(\n",
       "    (W_Q): Linear(in_features=300, out_features=400, bias=True)\n",
       "    (W_K): Linear(in_features=300, out_features=400, bias=True)\n",
       "    (W_V): Linear(in_features=300, out_features=400, bias=True)\n",
       "  )\n",
       "  (attn_pool_word): AttentionPooling(\n",
       "    (att_fc1): Linear(in_features=400, out_features=200, bias=True)\n",
       "    (att_fc2): Linear(in_features=200, out_features=1, bias=True)\n",
       "    (drop_layer): Dropout(p=0.2, inplace=False)\n",
       "  )\n",
       "  (attn_pool_news): AttentionPooling(\n",
       "    (att_fc1): Linear(in_features=64, out_features=32, bias=True)\n",
       "    (att_fc2): Linear(in_features=32, out_features=1, bias=True)\n",
       "    (drop_layer): Dropout(p=0.2, inplace=False)\n",
       "  )\n",
       "  (drop_layer): Dropout(p=0.2, inplace=False)\n",
       "  (fc): Linear(in_features=400, out_features=64, bias=True)\n",
       "  (criterion): CrossEntropyLoss()\n",
       ")"
      ]
     },
     "execution_count": 25,
     "metadata": {},
     "output_type": "execute_result"
    }
   ],
   "source": [
    "from pensmodule.UserEncoder import NRMS\n",
    "embedding_matrix = np.load('./data2/embedding_matrix.npy')\n",
    "\n",
    "usermodel = NRMS(embedding_matrix)\n",
    "usermodel.load_state_dict(torch.load('./runs/userencoder/NAML-2.pkl'))\n",
    "usermodel = usermodel.to(device)\n",
    "usermodel.eval()"
   ]
  },
  {
   "cell_type": "code",
   "execution_count": 26,
   "id": "241a9591",
   "metadata": {},
   "outputs": [],
   "source": [
    "news_scoring = np.load('./data2/news_scoring2.npy')\n",
    "sources = np.load('./data2/sources.npy')\n",
    "\n",
    "i_dset = TestImpressionDataset(news_scoring, sources, TestUsers, TestSamples)\n",
    "test_iter = DataLoader(i_dset, batch_size=16, shuffle=False)"
   ]
  },
  {
   "cell_type": "code",
   "execution_count": 27,
   "id": "c1dbfb11",
   "metadata": {},
   "outputs": [
    {
     "name": "stdout",
     "output_type": "stream",
     "text": [
      "141910 (141910, 300)\n"
     ]
    },
    {
     "name": "stderr",
     "output_type": "stream",
     "text": [
      "100%|██████████| 1288/1288 [00:58<00:00, 21.90it/s]\n"
     ]
    },
    {
     "name": "stdout",
     "output_type": "stream",
     "text": [
      "refs: [\"legal battle looms over trump epa's rule change of obama's clean power plan rule\", 'wise choices for stylish updating of old homes', 'verlander may be reconsidering his stance on mlbs juicing balls', 'infamous o.j. simpson launching official twitter account', '15 year old cori gauff beats venus williams at wimbledon', 'still much room for improvement in many us states', 'eagles still have plenty of news despite nfl dead zone', 'smart moves retirees should make', 'is the express pass in universal orlando worth the cost?', 'cbs news anchor angie miles says goodbye']\n",
      "hyps: ['trump administration over obama era power plant rule', 'house styles to make your home look to freshen up', 'justin verlander s juiced balls , and he had to have known league baseball', 'o . j . simpson launched a twitter account with video post video', 'coco gauff , coco gauff , still 15 , gauff , beat one of the wimbledon', 'world will celebrate international literacy day , countries around the world will celebrate international literacy', 'nfl dead zone zone zone the nfl dead zone training camp', 'smart moves retirees should make with their money in retirement', 'how much much you know you know you know', 'cbs 6 news anchor angie miles leaving south s first time after 15 year']\n"
     ]
    }
   ],
   "source": [
    "from pensmodule.Generator.eval import predict\n",
    "with open('./data2/dict.pkl', 'rb') as f:\n",
    "    news_index,category_dict,word_dict = pickle.load(f)\n",
    "index2word = {}\n",
    "for k,v in word_dict.items():\n",
    "    index2word[v] = k\n",
    "print(len(word_dict),embedding_matrix.shape)\n",
    "refs, hyps, scores1, scores2, scoresf = predict(usermodel, model, test_iter, device, index2word, beam=False, beam_size=3, eos_id=2)\n",
    "# refs, hyps, scores1, scores2, scoresf = predict(usermodel, model, test_iter, device, index2word, beam=True, beam_size=3, eos_id=2)\n",
    "\n",
    "print('refs:', refs[:10])\n",
    "print('hyps:', hyps[:10])\n"
   ]
  },
  {
   "cell_type": "code",
   "execution_count": 28,
   "id": "d699035b",
   "metadata": {},
   "outputs": [
    {
     "data": {
      "text/plain": [
       "(0.24155567693380653, 0.0866230724526373, 0.2137680350959111)"
      ]
     },
     "execution_count": 28,
     "metadata": {},
     "output_type": "execute_result"
    }
   ],
   "source": [
    "scores1.mean(), scores2.mean(), scoresf.mean()"
   ]
  }
 ],
 "metadata": {
  "kernelspec": {
   "display_name": "pens_clean",
   "language": "python",
   "name": "python3"
  },
  "language_info": {
   "codemirror_mode": {
    "name": "ipython",
    "version": 3
   },
   "file_extension": ".py",
   "mimetype": "text/x-python",
   "name": "python",
   "nbconvert_exporter": "python",
   "pygments_lexer": "ipython3",
   "version": "3.11.11"
  }
 },
 "nbformat": 4,
 "nbformat_minor": 5
}
