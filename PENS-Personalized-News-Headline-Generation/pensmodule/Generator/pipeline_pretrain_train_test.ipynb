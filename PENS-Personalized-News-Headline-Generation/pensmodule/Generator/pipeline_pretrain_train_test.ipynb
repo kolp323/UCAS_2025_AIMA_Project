{
 "cells": [
  {
   "cell_type": "code",
   "execution_count": 1,
   "metadata": {},
   "outputs": [],
   "source": [
    "import numpy as np\n",
    "import pandas as pd\n",
    "import torch\n",
    "from torch import nn\n",
    "import pickle\n",
    "from tqdm import tqdm\n",
    "import re\n",
    "import json\n",
    "from torch.utils.data import DataLoader, Dataset\n",
    "import torch.optim as optim\n",
    "import torch.nn.functional as F\n",
    "from collections import Counter\n",
    "from pensmodule.Generator.train import *\n",
    "import json\n",
    "import matplotlib.pyplot as plt"
   ]
  },
  {
   "cell_type": "code",
   "execution_count": 2,
   "metadata": {},
   "outputs": [],
   "source": [
    "import os\n",
    "os.environ[\"CUDA_VISIBLE_DEVICES\"] = \"0\"\n",
    "device = torch.device('cuda:0')"
   ]
  },
  {
   "cell_type": "markdown",
   "metadata": {},
   "source": [
    "## Prepare"
   ]
  },
  {
   "cell_type": "markdown",
   "metadata": {},
   "source": [
    "- **Config & Data**"
   ]
  },
  {
   "cell_type": "code",
   "execution_count": 3,
   "metadata": {},
   "outputs": [],
   "source": [
    "from data import *\n",
    "with open('config.json') as f:\n",
    "    config = json.load(f)"
   ]
  },
  {
   "cell_type": "code",
   "execution_count": 4,
   "metadata": {},
   "outputs": [
    {
     "name": "stdout",
     "output_type": "stream",
     "text": [
      "141910 (141910, 300)\n"
     ]
    }
   ],
   "source": [
    "sources = np.load('../../data2/sources.npy')\n",
    "target_inputs = np.load('../../data2/target_inputs.npy')\n",
    "target_outputs = np.load('../../data2/target_outputs.npy')\n",
    "embedding_matrix = np.load('../../data2/embedding_matrix.npy')\n",
    "with open('../../data2/dict.pkl', 'rb') as f:\n",
    "    news_index,category_dict,word_dict = pickle.load(f)\n",
    "index2word = {}\n",
    "for k,v in word_dict.items():\n",
    "    index2word[v] = k\n",
    "print(len(word_dict),embedding_matrix.shape)"
   ]
  },
  {
   "cell_type": "markdown",
   "metadata": {},
   "source": [
    "- **Model**"
   ]
  },
  {
   "cell_type": "code",
   "execution_count": 5,
   "metadata": {},
   "outputs": [
    {
     "name": "stdout",
     "output_type": "stream",
     "text": [
      "e:\\anaconda3\\envs\\pens_clean\\python.exe\n"
     ]
    }
   ],
   "source": [
    "import sys\n",
    "print(sys.executable)\n"
   ]
  },
  {
   "cell_type": "code",
   "execution_count": 6,
   "metadata": {},
   "outputs": [
    {
     "name": "stderr",
     "output_type": "stream",
     "text": [
      "C:\\Users\\13174\\AppData\\Roaming\\Python\\Python311\\site-packages\\torch\\nn\\modules\\rnn.py:123: UserWarning: dropout option adds dropout after all but last recurrent layer, so non-zero dropout expects num_layers greater than 1, but got dropout=0.2 and num_layers=1\n",
      "  warnings.warn(\n"
     ]
    }
   ],
   "source": [
    "from pensmodule.Generator import HeadlineGen\n",
    "model = HeadlineGen(config['model'], embedding_matrix, index2word, device, pointer_gen=True).to(device)"
   ]
  },
  {
   "cell_type": "code",
   "execution_count": null,
   "metadata": {},
   "outputs": [
    {
     "data": {
      "text/plain": [
       "NRMS(\n",
       "  (embed): Embedding(141910, 300, padding_idx=0)\n",
       "  (attn_word): MultiHeadAttention(\n",
       "    (W_Q): Linear(in_features=300, out_features=400, bias=True)\n",
       "    (W_K): Linear(in_features=300, out_features=400, bias=True)\n",
       "    (W_V): Linear(in_features=300, out_features=400, bias=True)\n",
       "  )\n",
       "  (attn_pool_word): AttentionPooling(\n",
       "    (att_fc1): Linear(in_features=400, out_features=200, bias=True)\n",
       "    (att_fc2): Linear(in_features=200, out_features=1, bias=True)\n",
       "    (drop_layer): Dropout(p=0.2, inplace=False)\n",
       "  )\n",
       "  (attn_pool_news): AttentionPooling(\n",
       "    (att_fc1): Linear(in_features=64, out_features=32, bias=True)\n",
       "    (att_fc2): Linear(in_features=32, out_features=1, bias=True)\n",
       "    (drop_layer): Dropout(p=0.2, inplace=False)\n",
       "  )\n",
       "  (drop_layer): Dropout(p=0.2, inplace=False)\n",
       "  (fc): Linear(in_features=400, out_features=64, bias=True)\n",
       "  (criterion): CrossEntropyLoss()\n",
       ")"
      ]
     },
     "execution_count": 7,
     "metadata": {},
     "output_type": "execute_result"
    }
   ],
   "source": [
    "from pensmodule.UserEncoder import NRMS # 这里\\UserEncoder\\model.py里要用from .modules\n",
    "\n",
    "usermodel = NRMS(embedding_matrix)\n",
    "usermodel.load_state_dict(torch.load('../../runs/userencoder/NAML-2.pkl'))\n",
    "usermodel = usermodel.to(device)\n",
    "usermodel.eval()"
   ]
  },
  {
   "cell_type": "markdown",
   "metadata": {},
   "source": [
    "- **Load Trainer**"
   ]
  },
  {
   "cell_type": "code",
   "execution_count": 8,
   "metadata": {},
   "outputs": [],
   "source": [
    "# here you can set different modes for computing coverage scores\n",
    "trainer = Trainer(config, model, usermodel, device, mode=4, experiment_name='exp')"
   ]
  },
  {
   "cell_type": "markdown",
   "metadata": {},
   "source": [
    "## Pretrain Seq2seq model"
   ]
  },
  {
   "cell_type": "markdown",
   "metadata": {},
   "source": [
    "**Noted:**\\\n",
    "**For a fair comparison, here we advise using other source and targets (from your own collected news datasets) for pretraining.**"
   ]
  },
  {
   "cell_type": "code",
   "execution_count": 9,
   "metadata": {},
   "outputs": [],
   "source": [
    "global_user_embed = np.load('../../data2/global_user_embed2.npy')\n",
    "global_user_embed = torch.as_tensor(global_user_embed, device=device).float()"
   ]
  },
  {
   "cell_type": "code",
   "execution_count": 10,
   "metadata": {},
   "outputs": [],
   "source": [
    "trainer._init_optimizer()"
   ]
  },
  {
   "cell_type": "code",
   "execution_count": null,
   "metadata": {},
   "outputs": [
    {
     "name": "stdout",
     "output_type": "stream",
     "text": [
      "epoch: 1\n"
     ]
    },
    {
     "name": "stderr",
     "output_type": "stream",
     "text": [
      "pretrain loss: 54.634:  46%|████▌     | 500/1094 [06:57<06:45,  1.47it/s]  "
     ]
    },
    {
     "name": "stdout",
     "output_type": "stream",
     "text": [
      "step= 500, pretrain loss: 61.886\n"
     ]
    },
    {
     "name": "stderr",
     "output_type": "stream",
     "text": [
      "pretrain loss: 49.513:  90%|████████▉ | 981/1094 [12:25<01:25,  1.32it/s]"
     ]
    }
   ],
   "source": [
    "for epoch in range(1,4):\n",
    "    print('epoch:', epoch)\n",
    "    s_dset = Seq2SeqDataset(sources, target_inputs, target_outputs)\n",
    "    train_iter = DataLoader(s_dset, batch_size=128, shuffle=True, num_workers=20, pin_memory=True)\n",
    "    \n",
    "    trainer.pretrain(train_iter, global_user_embed)\n",
    "    trainer.save_checkpoint(tag='pretrain_epoch_'+str(epoch))"
   ]
  },
  {
   "cell_type": "markdown",
   "metadata": {},
   "source": [
    "## Train Personalized Generator"
   ]
  },
  {
   "cell_type": "markdown",
   "metadata": {},
   "source": [
    "- **data loader**"
   ]
  },
  {
   "cell_type": "code",
   "execution_count": null,
   "metadata": {},
   "outputs": [],
   "source": [
    "with open('../../data2/TrainUsers.pkl', 'rb') as f:\n",
    "    TrainUsers = pickle.load(f)\n",
    "with open('../../data2/TrainSamples.pkl', 'rb') as f:\n",
    "    TrainSamples = pickle.load(f)"
   ]
  },
  {
   "cell_type": "code",
   "execution_count": null,
   "metadata": {},
   "outputs": [],
   "source": [
    "news_scoring = np.load('../../data2/news_scoring2.npy')"
   ]
  },
  {
   "cell_type": "code",
   "execution_count": null,
   "metadata": {},
   "outputs": [],
   "source": [
    "i_dset = ImpressionDataset(news_scoring, sources, target_inputs, target_outputs, TrainUsers, TrainSamples)\n",
    "data_loader = DataLoader(i_dset, batch_size=128, shuffle=True, num_workers=20, pin_memory=True)"
   ]
  },
  {
   "cell_type": "markdown",
   "metadata": {},
   "source": [
    "- **train**"
   ]
  },
  {
   "cell_type": "code",
   "execution_count": null,
   "metadata": {},
   "outputs": [
    {
     "name": "stdout",
     "output_type": "stream",
     "text": [
      "Loaded ../../runs/seq2seq\\exp\\checkpoint_pretrain_epoch_3.pth\n"
     ]
    }
   ],
   "source": [
    "\n",
    "# trainer.load_checkpoint(tag='pretrain_epoch_3', weights_only=False)\n",
    "tag='pretrain_epoch_3'\n",
    "path = os.path.join(trainer.experiment_path,\n",
    "                                \"checkpoint_{}.pth\".format(tag))\n",
    "checkpoint = torch.load(path, weights_only=False)\n",
    "\n",
    "trainer.model = checkpoint['model']\n",
    "trainer.step = int(checkpoint['step'])\n",
    "\n",
    "print('Loaded ' + path)"
   ]
  },
  {
   "cell_type": "code",
   "execution_count": null,
   "metadata": {},
   "outputs": [
    {
     "data": {
      "application/vnd.jupyter.widget-view+json": {
       "model_id": "dc356d2ba9f843deaad7dac87955d7f3",
       "version_major": 2,
       "version_minor": 0
      },
      "text/plain": [
       "config.json:   0%|          | 0.00/665 [00:00<?, ?B/s]"
      ]
     },
     "metadata": {},
     "output_type": "display_data"
    },
    {
     "name": "stderr",
     "output_type": "stream",
     "text": [
      "e:\\anaconda3\\envs\\pens_clean\\Lib\\site-packages\\huggingface_hub\\file_download.py:143: UserWarning: `huggingface_hub` cache-system uses symlinks by default to efficiently store duplicated files but your machine does not support them in C:\\Users\\13174\\.cache\\huggingface\\hub\\models--gpt2. Caching files will still work but in a degraded version that might require more space on your disk. This warning can be disabled by setting the `HF_HUB_DISABLE_SYMLINKS_WARNING` environment variable. For more details, see https://huggingface.co/docs/huggingface_hub/how-to-cache#limitations.\n",
      "To support symlinks on Windows, you either need to activate Developer Mode or to run Python as an administrator. In order to activate developer mode, see this article: https://docs.microsoft.com/en-us/windows/apps/get-started/enable-your-device-for-development\n",
      "  warnings.warn(message)\n",
      "Xet Storage is enabled for this repo, but the 'hf_xet' package is not installed. Falling back to regular HTTP download. For better performance, install the package with: `pip install huggingface_hub[hf_xet]` or `pip install hf_xet`\n"
     ]
    },
    {
     "data": {
      "application/vnd.jupyter.widget-view+json": {
       "model_id": "a45afddb9ab7401384cd2e166045e6eb",
       "version_major": 2,
       "version_minor": 0
      },
      "text/plain": [
       "model.safetensors:   0%|          | 0.00/548M [00:00<?, ?B/s]"
      ]
     },
     "metadata": {},
     "output_type": "display_data"
    },
    {
     "data": {
      "application/vnd.jupyter.widget-view+json": {
       "model_id": "fff07afaf1bf448b96d1f56bc96ac7ce",
       "version_major": 2,
       "version_minor": 0
      },
      "text/plain": [
       "generation_config.json:   0%|          | 0.00/124 [00:00<?, ?B/s]"
      ]
     },
     "metadata": {},
     "output_type": "display_data"
    },
    {
     "data": {
      "application/vnd.jupyter.widget-view+json": {
       "model_id": "ad49e3babf644385b925e670badb8dca",
       "version_major": 2,
       "version_minor": 0
      },
      "text/plain": [
       "tokenizer_config.json:   0%|          | 0.00/26.0 [00:00<?, ?B/s]"
      ]
     },
     "metadata": {},
     "output_type": "display_data"
    },
    {
     "data": {
      "application/vnd.jupyter.widget-view+json": {
       "model_id": "366f2a216b464c7f8a9bedb5fc899ce3",
       "version_major": 2,
       "version_minor": 0
      },
      "text/plain": [
       "vocab.json:   0%|          | 0.00/1.04M [00:00<?, ?B/s]"
      ]
     },
     "metadata": {},
     "output_type": "display_data"
    },
    {
     "data": {
      "application/vnd.jupyter.widget-view+json": {
       "model_id": "9999f439dbf34b249d948d959365ea54",
       "version_major": 2,
       "version_minor": 0
      },
      "text/plain": [
       "merges.txt:   0%|          | 0.00/456k [00:00<?, ?B/s]"
      ]
     },
     "metadata": {},
     "output_type": "display_data"
    },
    {
     "data": {
      "application/vnd.jupyter.widget-view+json": {
       "model_id": "c5b37cdc1c04466f9e54b3b35cc2b877",
       "version_major": 2,
       "version_minor": 0
      },
      "text/plain": [
       "tokenizer.json:   0%|          | 0.00/1.36M [00:00<?, ?B/s]"
      ]
     },
     "metadata": {},
     "output_type": "display_data"
    },
    {
     "name": "stderr",
     "output_type": "stream",
     "text": [
      "e:\\anaconda3\\envs\\pens_clean\\Lib\\site-packages\\transformers\\tokenization_utils_base.py:1601: FutureWarning: `clean_up_tokenization_spaces` was not set. It will be set to `True` by default. This behavior will be depracted in transformers v4.45, and will be then set to `False` by default. For more details check this issue: https://github.com/huggingface/transformers/issues/31884\n",
      "  warnings.warn(\n"
     ]
    }
   ],
   "source": [
    "trainer._init_evaluator_()"
   ]
  },
  {
   "cell_type": "code",
   "execution_count": null,
   "metadata": {},
   "outputs": [
    {
     "name": "stdout",
     "output_type": "stream",
     "text": [
      "loading news body\n"
     ]
    }
   ],
   "source": [
    "trainer._init_context_()"
   ]
  },
  {
   "cell_type": "code",
   "execution_count": null,
   "metadata": {},
   "outputs": [],
   "source": [
    "optimizer_params={'lr': 0.000001}\n",
    "scheduler_params={'step_size': 200, 'gamma': 0.98}\n",
    "trainer._init_optimizer(optimizer_params=optimizer_params,scheduler_params=scheduler_params)"
   ]
  },
  {
   "cell_type": "code",
   "execution_count": null,
   "metadata": {},
   "outputs": [
    {
     "name": "stderr",
     "output_type": "stream",
     "text": [
      "train actor loss: 0.062, train critic loss: 0.393, train reward: 3.030:   8%|▊         | 500/5963 [1:05:06<12:24:37,  8.18s/it] "
     ]
    },
    {
     "name": "stdout",
     "output_type": "stream",
     "text": [
      "Saved ../../runs/seq2seq\\exp\\checkpoint_train_mod4_step_500.pth\n",
      "step= 500, train actor loss: -0.068, train critic loss: 0.393, train reward: 2.983\n"
     ]
    },
    {
     "name": "stderr",
     "output_type": "stream",
     "text": [
      "train actor loss: 0.217, train critic loss: 0.373, train reward: 3.082:  17%|█▋        | 1000/5963 [2:11:21<11:35:42,  8.41s/it]"
     ]
    },
    {
     "name": "stdout",
     "output_type": "stream",
     "text": [
      "Saved ../../runs/seq2seq\\exp\\checkpoint_train_mod4_step_1000.pth\n",
      "step=1000, train actor loss: -0.048, train critic loss: 0.373, train reward: 3.082\n"
     ]
    },
    {
     "name": "stderr",
     "output_type": "stream",
     "text": [
      "train actor loss: -0.186, train critic loss: 0.341, train reward: 3.167:  25%|██▌       | 1500/5963 [3:18:20<10:11:06,  8.22s/it]"
     ]
    },
    {
     "name": "stdout",
     "output_type": "stream",
     "text": [
      "Saved ../../runs/seq2seq\\exp\\checkpoint_train_mod4_step_1500.pth\n",
      "step=1500, train actor loss: -0.059, train critic loss: 0.341, train reward: 3.176\n"
     ]
    },
    {
     "name": "stderr",
     "output_type": "stream",
     "text": [
      "train actor loss: -0.310, train critic loss: 0.331, train reward: 3.270:  34%|███▎      | 2000/5963 [4:26:26<9:04:32,  8.24s/it] "
     ]
    },
    {
     "name": "stdout",
     "output_type": "stream",
     "text": [
      "Saved ../../runs/seq2seq\\exp\\checkpoint_train_mod4_step_2000.pth\n",
      "step=2000, train actor loss: -0.142, train critic loss: 0.331, train reward: 3.275\n"
     ]
    },
    {
     "name": "stderr",
     "output_type": "stream",
     "text": [
      "train actor loss: -0.140, train critic loss: 0.306, train reward: 3.355:  42%|████▏     | 2500/5963 [5:35:33<8:27:29,  8.79s/it]"
     ]
    },
    {
     "name": "stdout",
     "output_type": "stream",
     "text": [
      "Saved ../../runs/seq2seq\\exp\\checkpoint_train_mod4_step_2500.pth\n",
      "step=2500, train actor loss: -0.135, train critic loss: 0.306, train reward: 3.344\n"
     ]
    },
    {
     "name": "stderr",
     "output_type": "stream",
     "text": [
      "train actor loss: 0.085, train critic loss: 0.317, train reward: 3.449:  50%|█████     | 3000/5963 [6:45:08<6:56:05,  8.43s/it] "
     ]
    },
    {
     "name": "stdout",
     "output_type": "stream",
     "text": [
      "Saved ../../runs/seq2seq\\exp\\checkpoint_train_mod4_step_3000.pth\n",
      "step=3000, train actor loss: -0.175, train critic loss: 0.317, train reward: 3.414\n"
     ]
    },
    {
     "name": "stderr",
     "output_type": "stream",
     "text": [
      "train actor loss: -0.036, train critic loss: 0.314, train reward: 3.434:  50%|█████     | 3000/5963 [6:45:17<6:40:17,  8.11s/it]\n"
     ]
    }
   ],
   "source": [
    "rewards = trainer.train(data_loader,train_option='a2c', tag='mod4')"
   ]
  },
  {
   "cell_type": "code",
   "execution_count": null,
   "metadata": {},
   "outputs": [
    {
     "data": {
      "image/png": "[encoded data removed]",
      "text/plain": [
       "<Figure size 640x480 with 1 Axes>"
      ]
     },
     "metadata": {},
     "output_type": "display_data"
    }
   ],
   "source": [
    "x = np.arange(len(rewards))\n",
    "fig = plt.gcf()\n",
    "plt.plot(x[:3000],rewards[:3000])\n",
    "\n",
    "plt.xlabel(\"step\")\n",
    "plt.ylabel(\"reward\")\n",
    "plt.show()"
   ]
  },
  {
   "cell_type": "markdown",
   "metadata": {},
   "source": [
    "## Test"
   ]
  },
  {
   "cell_type": "code",
   "execution_count": null,
   "metadata": {},
   "outputs": [],
   "source": [
    "with open('../../data2/TestUsers.pkl', 'rb') as f:\n",
    "    TestUsers = pickle.load(f)\n",
    "with open('../../data2/TestSamples.pkl', 'rb') as f:\n",
    "    TestSamples = pickle.load(f)"
   ]
  },
  {
   "cell_type": "code",
   "execution_count": null,
   "metadata": {},
   "outputs": [
    {
     "data": {
      "text/plain": [
       "HeadlineGen(\n",
       "  (embeddings): Embedding(141910, 300)\n",
       "  (encoder): LSTMEncoder(\n",
       "    (embeddings): Embedding(141910, 300)\n",
       "    (rnn): LSTM(300, 64, batch_first=True, dropout=0.2, bidirectional=True)\n",
       "    (bridge): ModuleList(\n",
       "      (0-1): 2 x Linear(in_features=64, out_features=64, bias=True)\n",
       "    )\n",
       "  )\n",
       "  (decoder): Decoder_P(\n",
       "    (embeddings): Embedding(141910, 300)\n",
       "    (dropout): Dropout(p=0.2, inplace=False)\n",
       "    (rnn): LSTM(300, 128, batch_first=True)\n",
       "    (attention): Attention(\n",
       "      (linear_out): Linear(in_features=256, out_features=128, bias=True)\n",
       "    )\n",
       "    (transform): ModuleList(\n",
       "      (0-1): 2 x Linear(in_features=64, out_features=128, bias=True)\n",
       "    )\n",
       "    (out): Linear(in_features=128, out_features=141910, bias=True)\n",
       "    (p_gen_linear): Linear(in_features=128, out_features=1, bias=True)\n",
       "  )\n",
       "  (loss_fn): NLLLoss()\n",
       "  (dropout): Dropout(p=0.2, inplace=False)\n",
       ")"
      ]
     },
     "execution_count": 42,
     "metadata": {},
     "output_type": "execute_result"
    }
   ],
   "source": [
    "from pensmodule.Generator import *\n",
    "model_path = '../../runs/seq2seq/exp/checkpoint_train_mod4_step_2000.pth'\n",
    "\n",
    "def load_model_from_ckpt(path):\n",
    "    checkpoint = torch.load(path, weights_only= False)\n",
    "    model = checkpoint['model']\n",
    "    if torch.cuda.device_count() > 1:\n",
    "        print('multiple gpu training')\n",
    "        model = nn.DataParallel(model)\n",
    "    return model\n",
    "\n",
    "model = load_model_from_ckpt(model_path).to(device)\n",
    "model.eval()"
   ]
  },
  {
   "cell_type": "code",
   "execution_count": null,
   "metadata": {},
   "outputs": [
    {
     "data": {
      "text/plain": [
       "NRMS(\n",
       "  (embed): Embedding(141910, 300, padding_idx=0)\n",
       "  (attn_word): MultiHeadAttention(\n",
       "    (W_Q): Linear(in_features=300, out_features=400, bias=True)\n",
       "    (W_K): Linear(in_features=300, out_features=400, bias=True)\n",
       "    (W_V): Linear(in_features=300, out_features=400, bias=True)\n",
       "  )\n",
       "  (attn_pool_word): AttentionPooling(\n",
       "    (att_fc1): Linear(in_features=400, out_features=200, bias=True)\n",
       "    (att_fc2): Linear(in_features=200, out_features=1, bias=True)\n",
       "    (drop_layer): Dropout(p=0.2, inplace=False)\n",
       "  )\n",
       "  (attn_pool_news): AttentionPooling(\n",
       "    (att_fc1): Linear(in_features=64, out_features=32, bias=True)\n",
       "    (att_fc2): Linear(in_features=32, out_features=1, bias=True)\n",
       "    (drop_layer): Dropout(p=0.2, inplace=False)\n",
       "  )\n",
       "  (drop_layer): Dropout(p=0.2, inplace=False)\n",
       "  (fc): Linear(in_features=400, out_features=64, bias=True)\n",
       "  (criterion): CrossEntropyLoss()\n",
       ")"
      ]
     },
     "execution_count": 43,
     "metadata": {},
     "output_type": "execute_result"
    }
   ],
   "source": [
    "from pensmodule.UserEncoder import NRMS\n",
    "\n",
    "usermodel = NRMS(embedding_matrix)\n",
    "usermodel.load_state_dict(torch.load('../../runs/userencoder/NAML-2.pkl'))\n",
    "usermodel = usermodel.to(device)\n",
    "usermodel.eval()"
   ]
  },
  {
   "cell_type": "code",
   "execution_count": null,
   "metadata": {},
   "outputs": [],
   "source": [
    "i_dset = TestImpressionDataset(news_scoring, sources, TestUsers, TestSamples)\n",
    "test_iter = DataLoader(i_dset, batch_size=16, shuffle=False, num_workers=20, pin_memory=True)"
   ]
  },
  {
   "cell_type": "code",
   "execution_count": null,
   "metadata": {},
   "outputs": [
    {
     "name": "stderr",
     "output_type": "stream",
     "text": [
      "100%|██████████| 1288/1288 [00:58<00:00, 22.04it/s]\n"
     ]
    }
   ],
   "source": [
    "from pensmodule.Generator.eval import predict\n",
    "refs, hyps, scores1, scores2, scoresf = predict(usermodel, model, test_iter, device, index2word, beam=False, beam_size=3, eos_id=2)\n",
    "# refs, hyps, scores1, scores2, scoresf = predict(usermodel, model, test_iter, device, index2word, beam=True, beam_size=3, eos_id=2)"
   ]
  },
  {
   "cell_type": "code",
   "execution_count": null,
   "metadata": {},
   "outputs": [
    {
     "data": {
      "text/plain": [
       "(0.24194751508665002, 0.08631163564189903, 0.21354054768805453)"
      ]
     },
     "execution_count": 46,
     "metadata": {},
     "output_type": "execute_result"
    }
   ],
   "source": [
    "scores1.mean(), scores2.mean(), scoresf.mean()"
   ]
  },
  {
   "cell_type": "markdown",
   "metadata": {},
   "source": []
  },
  {
   "cell_type": "code",
   "execution_count": null,
   "metadata": {},
   "outputs": [],
   "source": []
  }
 ],
 "metadata": {
  "kernelspec": {
   "display_name": "pens_clean",
   "language": "python",
   "name": "python3"
  },
  "language_info": {
   "codemirror_mode": {
    "name": "ipython",
    "version": 3
   },
   "file_extension": ".py",
   "mimetype": "text/x-python",
   "name": "python",
   "nbconvert_exporter": "python",
   "pygments_lexer": "ipython3",
   "version": "3.11.11"
  }
 },
 "nbformat": 4,
 "nbformat_minor": 2
}
