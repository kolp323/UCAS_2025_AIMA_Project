{
  "cells": [
    {
      "cell_type": "raw",
      "metadata": {
        "vscode": {
          "languageId": "raw"
        }
      },
      "source": [
        "# 基于提示词工程的个性化新闻标题生成\n",
        "\n",
        "本notebook演示如何使用大语言模型API进行个性化新闻标题生成，作为PENS项目的替代实现方案。\n",
        "\n",
        "## 技术路线\n",
        "1. **数据预处理**: 从PENS数据中提取用户历史和兴趣信息\n",
        "2. **提示词工程**: 设计个性化标题生成提示词\n",
        "3. **API调用**: 调用DeepSeek模型生成个性化标题\n",
        "4. **效果评估**: 使用ROUGE等指标评估生成效果\n",
        "\n",
        "## 优势\n",
        "- 无需训练模型，快速实现\n",
        "- 利用大模型的强大语言理解能力\n",
        "- 灵活的提示词设计，易于优化\n",
        "- 较低的计算资源需求\n"
      ]
    },
    {
      "cell_type": "raw",
      "metadata": {
        "vscode": {
          "languageId": "raw"
        }
      },
      "source": [
        "## 1. 环境准备\n"
      ]
    },
    {
      "cell_type": "code",
      "execution_count": 1,
      "metadata": {},
      "outputs": [
        {
          "name": "stdout",
          "output_type": "stream",
          "text": [
            "警告: rouge_score包未安装，将使用简化的评估方法\n",
            "✅ 环境准备完成\n",
            "📁 输出目录: ./outputs\n",
            "🤖 模型: deepseek-chat-v3-0324\n",
            "🎯 Token限制: 50000\n"
          ]
        }
      ],
      "source": [
        "import os\n",
        "import sys\n",
        "import json\n",
        "import pandas as pd\n",
        "import numpy as np\n",
        "from datetime import datetime\n",
        "import matplotlib.pyplot as plt\n",
        "import seaborn as sns\n",
        "from tqdm import tqdm\n",
        "\n",
        "# 设置中文字体\n",
        "plt.rcParams['font.sans-serif'] = ['SimHei', 'DejaVu Sans']\n",
        "plt.rcParams['axes.unicode_minus'] = False\n",
        "\n",
        "# 导入自定义模块\n",
        "from config import *\n",
        "from data_processor import DataProcessor\n",
        "from llm_client import LLMClient\n",
        "from prompt_generator import PromptGenerator\n",
        "from evaluator import Evaluator\n",
        "from main import PersonalizedTitleGenerator\n",
        "\n",
        "print(\"✅ 环境准备完成\")\n",
        "print(f\"📁 输出目录: {DATA_PATHS['output_dir']}\")\n",
        "print(f\"🤖 模型: {API_CONFIG['model']}\")\n",
        "print(f\"🎯 Token限制: {API_CONFIG['max_tokens']}\")\n"
      ]
    },
    {
      "cell_type": "raw",
      "metadata": {
        "vscode": {
          "languageId": "raw"
        }
      },
      "source": [
        "## 2. 数据预处理\n",
        "\n",
        "从原始PENS数据中提取用户历史点击序列和兴趣标签\n"
      ]
    },
    {
      "cell_type": "code",
      "execution_count": 2,
      "metadata": {},
      "outputs": [
        {
          "name": "stderr",
          "output_type": "stream",
          "text": [
            "2025-06-21 16:35:51,332 - data_processor - INFO - 成功加载已处理的数据\n"
          ]
        },
        {
          "name": "stdout",
          "output_type": "stream",
          "text": [
            "✅ 加载已处理的数据\n",
            "📈 统计信息:\n",
            "  测试样本数: 200\n",
            "  用户数: 103\n",
            "  兴趣类别: 3\n"
          ]
        }
      ],
      "source": [
        "# 初始化数据处理器\n",
        "processor = DataProcessor()\n",
        "\n",
        "# 检查是否已有处理好的数据\n",
        "processed_data_exists = processor.load_processed_data()\n",
        "\n",
        "if not processed_data_exists:\n",
        "    print(\"📊 开始数据预处理...\")\n",
        "    success = processor.process_all()\n",
        "    \n",
        "    if success:\n",
        "        print(\"✅ 数据预处理完成\")\n",
        "    else:\n",
        "        print(\"❌ 数据预处理失败，请检查数据文件\")\n",
        "        sys.exit(1)\n",
        "else:\n",
        "    print(\"✅ 加载已处理的数据\")\n",
        "\n",
        "print(f\"📈 统计信息:\")\n",
        "print(f\"  测试样本数: {len(processor.test_samples)}\")\n",
        "print(f\"  用户数: {len(processor.user_histories)}\")\n",
        "print(f\"  兴趣类别: {len(set([int['primary_interest'] for int in processor.user_interests.values()]))}\")\n"
      ]
    },
    {
      "cell_type": "raw",
      "metadata": {
        "vscode": {
          "languageId": "raw"
        }
      },
      "source": [
        "## 3. 评估和LLM质量评估\n",
        "\n",
        "使用评估器，包含个性化评估和大模型API质量评估功能。\n"
      ]
    },
    {
      "cell_type": "code",
      "execution_count": 3,
      "metadata": {},
      "outputs": [
        {
          "name": "stderr",
          "output_type": "stream",
          "text": [
            "2025-06-21 16:35:51,839 - llm_client - INFO - 初始化LLM客户端: deepseek-chat-v3-0324 (聊天模型)\n",
            "2025-06-21 16:35:51,840 - evaluator - INFO - 使用 deepseek-chat-v3-0324 进行LLM评估\n"
          ]
        },
        {
          "name": "stdout",
          "output_type": "stream",
          "text": [
            "✅ 评估器初始化完成\n",
            "🤖 LLM评估模型: deepseek-chat-v3-0324\n",
            "📊 评估功能:\n",
            "  • 多维度个性化评估\n",
            "  • 大模型API质量评估\n",
            "  • 科学的综合评分体系\n"
          ]
        }
      ],
      "source": [
        "# 导入评估器\n",
        "from evaluator import Evaluator\n",
        "\n",
        "# 初始化评估器（启用LLM评估）\n",
        "evaluator_enhanced = Evaluator(use_llm_evaluation=True)\n",
        "\n",
        "print(\"✅ 评估器初始化完成\")\n",
        "print(f\"🤖 LLM评估模型: {EVALUATION_MODEL}\")\n",
        "print(\"📊 评估功能:\")\n",
        "print(\"  • 多维度个性化评估\")\n",
        "print(\"  • 大模型API质量评估\")\n",
        "print(\"  • 科学的综合评分体系\")\n"
      ]
    },
    {
      "cell_type": "raw",
      "metadata": {
        "vscode": {
          "languageId": "raw"
        }
      },
      "source": [
        "### 评估说明\n",
        "\n",
        "本评估模块的主要功能：\n",
        "\n",
        "**1. 个性化评估**\n",
        "- 兴趣匹配度（40%权重）：检查标题与用户主要兴趣的匹配程度\n",
        "- 类别相关性（20%权重）：评估标题与新闻类别的相关性\n",
        "- 兴趣一致性（25%权重）：检查用户兴趣与新闻类别的一致性\n",
        "- 历史相关性（15%权重）：考虑用户历史阅读偏好\n",
        "\n",
        "**2. LLM质量评估**\n",
        "- 准确性：标题是否准确反映新闻内容\n",
        "- 吸引力：标题的点击吸引力\n",
        "- 清晰度：表达的清晰易懂程度\n",
        "- 合理性：长度和用词的合理性\n",
        "- 创新性：相比原标题的改进程度\n",
        "\n",
        "**3. 综合评分体系**\n",
        "- ROUGE评分：25%\n",
        "- 个性化效果：35%\n",
        "- 标题质量：20%\n",
        "- LLM评估：20%\n"
      ]
    },
    {
      "cell_type": "markdown",
      "metadata": {},
      "source": [
        "## 2. 数据预处理\n",
        "\n",
        "从原始PENS数据中提取用户历史点击序列和兴趣标签"
      ]
    },
    {
      "cell_type": "code",
      "execution_count": 4,
      "metadata": {},
      "outputs": [
        {
          "name": "stdout",
          "output_type": "stream",
          "text": [
            "📄 数据样例:\n",
            "原始标题: high-stakes legal fight looms over trump pollution rule\n",
            "参考标题: legal battle looms over trump epa's rule change of obama's clean power plan rule\n",
            "新闻类别: news\n",
            "用户兴趣: news\n",
            "用户历史: [\"nike faces backlash after pulling 'betsy ross flag' sneakers\", \"costco is selling a giant donut covered in pink icing, sprinkles and m&m's\", 'top stock reports for berkshire hathaway, salesforce & danaher']...\n",
            "新闻内容: democratic state attorney generals and environmental groups are gearing up for what is expected to b...\n"
          ]
        }
      ],
      "source": [
        "# 查看数据样例\n",
        "sample = processor.test_samples[0]\n",
        "print(\"📄 数据样例:\")\n",
        "print(f\"原始标题: {sample['original_title']}\")\n",
        "print(f\"参考标题: {sample['reference_title']}\")\n",
        "print(f\"新闻类别: {sample['category']}\")\n",
        "print(f\"用户兴趣: {sample['user_interests']['primary_interest']}\")\n",
        "print(f\"用户历史: {sample['user_history'][:3]}...\")\n",
        "print(f\"新闻内容: {sample['news_body'][:100]}...\")"
      ]
    },
    {
      "cell_type": "markdown",
      "metadata": {},
      "source": [
        "## 3. 提示词设计与测试\n",
        "\n",
        "设计和测试不同风格的个性化标题生成提示词"
      ]
    },
    {
      "cell_type": "code",
      "execution_count": 5,
      "metadata": {},
      "outputs": [
        {
          "name": "stderr",
          "output_type": "stream",
          "text": [
            "2025-06-21 16:35:51,868 - prompt_generator - INFO - 初始化提示词生成器: deepseek-chat-v3-0324 (聊天模型)\n",
            "2025-06-21 16:35:51,868 - prompt_generator - INFO - 初始化提示词生成器: deepseek-chat-v3-0324 (聊天模型)\n"
          ]
        },
        {
          "name": "stdout",
          "output_type": "stream",
          "text": [
            "🎨 提示词风格测试:\n",
            "\n",
            "📋 可用风格: ['focused', 'enhanced', 'creative']\n",
            "🤖 当前模型: deepseek-chat-v3-0324 (聊天模型)\n",
            "\n",
            "=== FOCUSED 风格 ===\n",
            "系统提示词长度: 253 字符\n",
            "用户提示词长度: 1436 字符\n",
            "预估总tokens: 2534\n",
            "系统提示词预览: Create a personalized English news headline based on the user's interests and browsing history.\n",
            "\n",
            "Req...\n",
            "用户提示词预览: Create a personalized headline for this user:\n",
            "\n",
            "Interests: 主要兴趣: news, 相关类别: news, video, finance\n",
            "Recent reads: - nike faces backlash after pulling 'be...\n",
            "\n",
            "=== ENHANCED 风格 ===\n",
            "系统提示词长度: 253 字符\n",
            "用户提示词长度: 1414 字符\n",
            "预估总tokens: 2500\n",
            "系统提示词预览: Create a personalized English news headline based on the user's interests and browsing history.\n",
            "\n",
            "Req...\n",
            "用户提示词预览: User profile:\n",
            "- Interests: 主要兴趣: news, 相关类别: news, video, finance  \n",
            "- Recent articles: - nike faces backlash after pulling 'betsy ross flag' sneakers\n",
            "...\n",
            "\n",
            "=== CREATIVE 风格 ===\n",
            "系统提示词长度: 253 字符\n",
            "用户提示词长度: 1416 字符\n",
            "预估总tokens: 2504\n",
            "系统提示词预览: Create a personalized English news headline based on the user's interests and browsing history.\n",
            "\n",
            "Req...\n",
            "用户提示词预览: Personalize this headline for a user interested in: 主要兴趣: news, 相关类别: news, video, finance\n",
            "\n",
            "Their recent reads: - nike faces backlash after pulling 'b...\n",
            "\n"
          ]
        }
      ],
      "source": [
        "# 初始化提示词生成器\n",
        "prompt_gen = PromptGenerator()\n",
        "\n",
        "# 测试不同风格的提示词\n",
        "test_sample = processor.test_samples[0]\n",
        "\n",
        "print(\"🎨 提示词风格测试:\\n\")\n",
        "print(f\"📋 可用风格: {prompt_gen.get_available_styles()}\")\n",
        "print(f\"🤖 当前模型: {prompt_gen.current_model} ({'推理模型' if prompt_gen.is_reasoning_model else '聊天模型'})\")\n",
        "print()\n",
        "\n",
        "for style in ['focused', 'enhanced', 'creative']:\n",
        "    print(f\"=== {style.upper()} 风格 ===\")\n",
        "    \n",
        "    try:\n",
        "        # 生成提示词 - 使用新的接口\n",
        "        system_prompt, user_prompt = prompt_gen.generate_single_prompt(test_sample, style)\n",
        "        \n",
        "        print(f\"系统提示词长度: {len(system_prompt)} 字符\")\n",
        "        print(f\"用户提示词长度: {len(user_prompt)} 字符\")\n",
        "        print(f\"预估总tokens: {(len(system_prompt) + len(user_prompt)) * 1.5:.0f}\")\n",
        "        print(f\"系统提示词预览: {system_prompt[:100]}...\")\n",
        "        print(f\"用户提示词预览: {user_prompt[:150]}...\\n\")\n",
        "        \n",
        "    except Exception as e:\n",
        "        print(f\"❌ 风格 {style} 测试失败: {e}\\n\")"
      ]
    },
    {
      "cell_type": "code",
      "execution_count": 6,
      "metadata": {},
      "outputs": [
        {
          "name": "stdout",
          "output_type": "stream",
          "text": [
            "🧠 提示词适应性测试:\n",
            "\n",
            "=== NEWS 类别 ===\n",
            "新闻标题: high-stakes legal fight looms over trump pollution...\n",
            "用户兴趣: news\n",
            "系统提示词长度: 253 字符\n",
            "用户提示词长度: 1414 字符\n",
            "预估tokens: 2500\n",
            "\n",
            "=== SPORTS 类别 ===\n",
            "新闻标题: justin verlander got 'chewed out' by mlb before al...\n",
            "用户兴趣: news\n",
            "系统提示词长度: 253 字符\n",
            "用户提示词长度: 1420 字符\n",
            "预估tokens: 2510\n",
            "\n",
            "=== ENTERTAINMENT 类别 ===\n",
            "新闻标题: best xbox one games for kids in 2019...\n",
            "用户兴趣: news\n",
            "系统提示词长度: 253 字符\n",
            "用户提示词长度: 1395 字符\n",
            "预估tokens: 2472\n",
            "\n"
          ]
        }
      ],
      "source": [
        "# 测试不同类型新闻的提示词适应性\n",
        "print(\"🧠 提示词适应性测试:\\n\")\n",
        "\n",
        "# 测试不同类别的新闻样本\n",
        "categories = ['news', 'sports', 'entertainment'] if len(processor.test_samples) > 3 else ['news']\n",
        "for category in categories:\n",
        "    # 找到该类别的样本\n",
        "    category_samples = [s for s in processor.test_samples if s.get('category') == category]\n",
        "    if category_samples:\n",
        "        sample = category_samples[0]\n",
        "        print(f\"=== {category.upper()} 类别 ===\")\n",
        "        \n",
        "        # 为该样本生成提示词\n",
        "        system_prompt, user_prompt = prompt_gen.generate_single_prompt(sample, 'enhanced')\n",
        "        \n",
        "        print(f\"新闻标题: {sample['original_title'][:50]}...\")\n",
        "        print(f\"用户兴趣: {sample['user_interests']['primary_interest']}\")\n",
        "        print(f\"系统提示词长度: {len(system_prompt)} 字符\")\n",
        "        print(f\"用户提示词长度: {len(user_prompt)} 字符\")\n",
        "        print(f\"预估tokens: {(len(system_prompt) + len(user_prompt)) * 1.5:.0f}\")\n",
        "        print()"
      ]
    },
    {
      "cell_type": "markdown",
      "metadata": {},
      "source": [
        "## 4. API调用测试\n",
        "\n",
        "测试LLM API连接和基本功能"
      ]
    },
    {
      "cell_type": "code",
      "execution_count": 7,
      "metadata": {},
      "outputs": [
        {
          "name": "stderr",
          "output_type": "stream",
          "text": [
            "2025-06-21 16:35:51,915 - llm_client - INFO - 初始化LLM客户端: deepseek-chat-v3-0324 (聊天模型)\n",
            "2025-06-21 16:35:51,917 - llm_client - INFO - 发送API请求 (尝试 1/3)\n"
          ]
        },
        {
          "name": "stdout",
          "output_type": "stream",
          "text": [
            "🔗 API配置:\n",
            "  Base URL: https://api.chavapa.com/v1\n",
            "  Model: deepseek-chat-v3-0324\n",
            "  Max Tokens: 50000\n",
            "\n",
            "🧪 API连接测试...\n"
          ]
        },
        {
          "name": "stderr",
          "output_type": "stream",
          "text": [
            "2025-06-21 16:35:57,778 - httpx - INFO - HTTP Request: POST https://api.chavapa.com/v1/chat/completions \"HTTP/1.1 200 OK\"\n",
            "2025-06-21 16:35:57,795 - llm_client - INFO - 从content字段获取内容(聊天模型): \"AI革命再升级！科技巨头发布图像识别黑科技，识别精度突破人类极限！\" （这个标题结合了以下吸引人的元素： 1. \"AI革命\" - 突显技术前沿性 2. \"科技巨头\" - 暗示行业领先地位 3. \"黑科技\" - 制造神秘感和期待感 4. \"突破人类极限\" - 强调技术突破性 5. 感叹号增强情感冲击力 6. 简洁有力地概括了新闻核心内容）\n",
            "2025-06-21 16:35:57,797 - llm_client - INFO - 本次请求使用 147 tokens，总计 147 tokens\n"
          ]
        },
        {
          "name": "stdout",
          "output_type": "stream",
          "text": [
            "✅ API连接成功\n",
            "📝 测试响应: \"AI革命再升级！科技巨头发布图像识别黑科技，识别精度突破人类极限！\" （这个标题结合了以下吸引人的元素： 1. \"AI革命\" - 突显技术前沿性 2. \"科技巨头\" - 暗示行业领先地位 3. \"黑科技\" - 制造神秘感和期待感 4. \"突破人类极限\" - 强调技术突破性 5. 感叹号增强情感冲击力 6. 简洁有力地概括了新闻核心内容）\n",
            "\n",
            "📊 使用统计:\n",
            "  请求数: 1\n",
            "  成功率: 100.00%\n",
            "  已用tokens: 147\n",
            "  剩余tokens: 49853\n"
          ]
        }
      ],
      "source": [
        "# 初始化LLM客户端\n",
        "llm_client = LLMClient()\n",
        "\n",
        "print(f\"🔗 API配置:\")\n",
        "print(f\"  Base URL: {API_CONFIG['base_url']}\")\n",
        "print(f\"  Model: {API_CONFIG['model']}\")\n",
        "print(f\"  Max Tokens: {API_CONFIG['max_tokens']}\")\n",
        "\n",
        "# 测试基本API调用\n",
        "test_messages = [\n",
        "    {\"role\": \"system\", \"content\": \"你是一个新闻标题生成专家。\"},\n",
        "    {\"role\": \"user\", \"content\": \"请为以下新闻生成一个吸引人的标题：科技公司发布了新的人工智能产品，该产品在图像识别方面有重大突破。\"}\n",
        "]\n",
        "\n",
        "print(\"\\n🧪 API连接测试...\")\n",
        "response = llm_client.chat_completion(test_messages)\n",
        "\n",
        "if response:\n",
        "    print(f\"✅ API连接成功\")\n",
        "    print(f\"📝 测试响应: {response}\")\n",
        "    \n",
        "    # 显示使用统计\n",
        "    stats = {'total_requests': llm_client.total_requests, 'success_rate': ((llm_client.total_requests - llm_client.failed_requests) / max(llm_client.total_requests, 1)), 'total_tokens_used': llm_client.total_tokens_used, 'remaining_tokens': 50000 - llm_client.total_tokens_used}\n",
        "    print(f\"\\n📊 使用统计:\")\n",
        "    print(f\"  请求数: {stats['total_requests']}\")\n",
        "    print(f\"  成功率: {stats['success_rate']:.2%}\")\n",
        "    print(f\"  已用tokens: {stats['total_tokens_used']}\")\n",
        "    print(f\"  剩余tokens: {stats['remaining_tokens']}\")\n",
        "else:\n",
        "    print(\"❌ API连接失败，请检查配置\")"
      ]
    },
    {
      "cell_type": "markdown",
      "metadata": {},
      "source": [
        "## 5. 个性化标题生成\n",
        "\n",
        "使用不同策略生成个性化新闻标题"
      ]
    },
    {
      "cell_type": "code",
      "execution_count": 8,
      "metadata": {},
      "outputs": [
        {
          "name": "stderr",
          "output_type": "stream",
          "text": [
            "2025-06-21 16:35:57,817 - llm_client - INFO - 发送API请求 (尝试 1/3)\n"
          ]
        },
        {
          "name": "stdout",
          "output_type": "stream",
          "text": [
            "🎯 个性化标题生成测试\n",
            "\n",
            "📰 原始标题: high-stakes legal fight looms over trump pollution rule\n",
            "📑 参考标题: legal battle looms over trump epa's rule change of obama's clean power plan rule\n",
            "👤 用户兴趣: news\n",
            "\n",
            "🤖 正在生成个性化标题...\n"
          ]
        },
        {
          "name": "stderr",
          "output_type": "stream",
          "text": [
            "2025-06-21 16:35:59,620 - httpx - INFO - HTTP Request: POST https://api.chavapa.com/v1/chat/completions \"HTTP/1.1 200 OK\"\n",
            "2025-06-21 16:35:59,623 - llm_client - INFO - 从content字段获取内容(聊天模型): Democrats Challenge Trump's Pollution Rollback in Climate Showdown\n",
            "2025-06-21 16:35:59,624 - llm_client - INFO - 本次请求使用 400 tokens，总计 547 tokens\n"
          ]
        },
        {
          "name": "stdout",
          "output_type": "stream",
          "text": [
            "✅ 生成成功\n",
            "🎨 生成的标题: Democrats Challenge Trump's Pollution Rollback in Climate Showdown\n",
            "📏 词数: 8 词\n"
          ]
        }
      ],
      "source": [
        "# 单个样本生成测试\n",
        "print(\"🎯 个性化标题生成测试\\n\")\n",
        "\n",
        "test_sample = processor.test_samples[0]\n",
        "\n",
        "# 生成个性化标题\n",
        "system_prompt, user_prompt = prompt_gen.generate_single_prompt(test_sample, 'creative')\n",
        "\n",
        "print(f\"📰 原始标题: {test_sample['original_title']}\")\n",
        "print(f\"📑 参考标题: {test_sample['reference_title']}\")\n",
        "print(f\"👤 用户兴趣: {test_sample['user_interests']['primary_interest']}\")\n",
        "\n",
        "print(\"\\n🤖 正在生成个性化标题...\")\n",
        "response = llm_client.generate_personalized_title(test_sample, system_prompt, user_prompt)\n",
        "\n",
        "if response:\n",
        "    print(f\"✅ 生成成功\")\n",
        "    print(f\"🎨 生成的标题: {response}\")\n",
        "    print(f\"📏 词数: {len(response.split())} 词\")\n",
        "else:\n",
        "    print(\"❌ 生成失败\")"
      ]
    },
    {
      "cell_type": "code",
      "execution_count": 9,
      "metadata": {},
      "outputs": [
        {
          "name": "stderr",
          "output_type": "stream",
          "text": [
            "2025-06-21 16:35:59,640 - llm_client - INFO - 发送API请求 (尝试 1/3)\n"
          ]
        },
        {
          "name": "stdout",
          "output_type": "stream",
          "text": [
            "📦 批量生成测试\n",
            "\n",
            "批量提示词长度: 1267 字符\n",
            "预估tokens: 1900\n",
            "\n",
            "🤖 正在批量生成标题...\n"
          ]
        },
        {
          "name": "stderr",
          "output_type": "stream",
          "text": [
            "2025-06-21 16:36:02,167 - httpx - INFO - HTTP Request: POST https://api.chavapa.com/v1/chat/completions \"HTTP/1.1 200 OK\"\n",
            "2025-06-21 16:36:02,170 - llm_client - INFO - 从content字段获取内容(聊天模型): News 1: \"Legal Showdown Over Trump’s Rollback of Obama-Era Pollution Rules\" News 2: \"This Common Decor Mistake Instantly Ages Your Home’s Appeal\" News 3: \"MLB Scolds Justin Verlander After Ball-Tampering Accusations\"\n",
            "2025-06-21 16:36:02,171 - llm_client - INFO - 本次请求使用 407 tokens，总计 954 tokens\n",
            "2025-06-21 16:36:02,173 - llm_client - INFO - 批量解析: 期望3个，成功解析3个\n",
            "2025-06-21 16:36:02,174 - llm_client - INFO -   批量标题1: Legal Showdown Over Trump’s Rollback of Obama-Era Pollution Rules\n",
            "2025-06-21 16:36:02,175 - llm_client - INFO -   批量标题2: This Common Decor Mistake Instantly Ages Your Home’s Appeal\n",
            "2025-06-21 16:36:02,176 - llm_client - INFO -   批量标题3: MLB Scolds Justin Verlander After Ball-Tampering Accusations\n"
          ]
        },
        {
          "name": "stdout",
          "output_type": "stream",
          "text": [
            "\n",
            "📊 批量生成结果:\n",
            "\n",
            "样本 1:\n",
            "  原始: high-stakes legal fight looms over trump pollution rule\n",
            "  生成: Legal Showdown Over Trump’s Rollback of Obama-Era Pollution Rules\n",
            "  用户兴趣: news\n",
            "\n",
            "样本 2:\n",
            "  原始: the one thing that immediately makes your house look dated\n",
            "  生成: This Common Decor Mistake Instantly Ages Your Home’s Appeal\n",
            "  用户兴趣: news\n",
            "\n",
            "样本 3:\n",
            "  原始: justin verlander got 'chewed out' by mlb before all-star game\n",
            "  生成: MLB Scolds Justin Verlander After Ball-Tampering Accusations\n",
            "  用户兴趣: news\n"
          ]
        }
      ],
      "source": [
        "# 批量生成测试（小批量）\n",
        "print(\"📦 批量生成测试\\n\")\n",
        "\n",
        "test_samples = processor.test_samples[:3]  # 测试3个样本\n",
        "\n",
        "system_prompt, batch_prompt = prompt_gen.generate_batch_prompt(test_samples)\n",
        "print(f\"批量提示词长度: {len(batch_prompt)} 字符\")\n",
        "print(f\"预估tokens: {len(batch_prompt) * 1.5:.0f}\")\n",
        "\n",
        "print(\"\\n🤖 正在批量生成标题...\")\n",
        "batch_results = llm_client.generate_batch_titles(\n",
        "    test_samples,\n",
        "    system_prompt,\n",
        "    batch_prompt\n",
        ")\n",
        "\n",
        "print(\"\\n📊 批量生成结果:\")\n",
        "for i, (sample, generated) in enumerate(zip(test_samples, batch_results)):\n",
        "    print(f\"\\n样本 {i+1}:\")\n",
        "    print(f\"  原始: {sample['original_title']}\")\n",
        "    print(f\"  生成: {generated or '生成失败'}\")\n",
        "    print(f\"  用户兴趣: {sample['user_interests']['primary_interest']}\")"
      ]
    },
    {
      "cell_type": "markdown",
      "metadata": {},
      "source": [
        "## 6. 完整生成流程\n",
        "\n",
        "运行完整的个性化标题生成流程"
      ]
    },
    {
      "cell_type": "code",
      "execution_count": 10,
      "metadata": {},
      "outputs": [
        {
          "name": "stderr",
          "output_type": "stream",
          "text": [
            "2025-06-21 16:36:02,211 - llm_client - INFO - 初始化LLM客户端: deepseek-chat-v3-0324 (聊天模型)\n",
            "2025-06-21 16:36:02,212 - prompt_generator - INFO - 初始化提示词生成器: deepseek-chat-v3-0324 (聊天模型)\n",
            "2025-06-21 16:36:02,212 - prompt_generator - INFO - 初始化提示词生成器: deepseek-chat-v3-0324 (聊天模型)\n",
            "2025-06-21 16:36:02,229 - llm_client - INFO - 初始化LLM客户端: deepseek-chat-v3-0324 (聊天模型)\n",
            "2025-06-21 16:36:02,230 - evaluator - INFO - 使用 deepseek-chat-v3-0324 进行LLM评估\n",
            "2025-06-21 16:36:02,232 - main - INFO - ============================================================\n",
            "2025-06-21 16:36:02,233 - main - INFO - 开始个性化新闻标题生成\n",
            "2025-06-21 16:36:02,235 - main - INFO - ============================================================\n",
            "2025-06-21 16:36:02,236 - main - INFO - 步骤 1: 数据准备\n",
            "2025-06-21 16:36:02,239 - main - INFO - 检测到已处理的数据，直接加载...\n",
            "2025-06-21 16:36:02,249 - data_processor - INFO - 成功加载已处理的数据\n",
            "2025-06-21 16:36:02,251 - main - INFO - 限制处理样本数为: 20\n",
            "2025-06-21 16:36:02,252 - main - INFO - 步骤 2: 标题生成 (模式: single)\n",
            "2025-06-21 16:36:02,254 - main - INFO - 开始单个生成模式，处理样本 0 到 20\n"
          ]
        },
        {
          "name": "stdout",
          "output_type": "stream",
          "text": [
            "🚀 开始完整生成流程\n",
            "📊 配置: {'mode': 'single', 'max_samples': 20, 'force_reprocess': False}\n"
          ]
        },
        {
          "name": "stderr",
          "output_type": "stream",
          "text": [
            "生成标题:   0%|          | 0/20 [00:00<?, ?it/s]2025-06-21 16:36:02,287 - llm_client - INFO - 发送API请求 (尝试 1/3)\n",
            "2025-06-21 16:36:04,501 - httpx - INFO - HTTP Request: POST https://api.chavapa.com/v1/chat/completions \"HTTP/1.1 200 OK\"\n",
            "2025-06-21 16:36:04,503 - llm_client - INFO - 从content字段获取内容(聊天模型): Trump's Pollution Rollback Sparks High-Stakes Legal Fight Over Climate Rules\n",
            "2025-06-21 16:36:04,504 - llm_client - INFO - 本次请求使用 402 tokens，总计 402 tokens\n",
            "生成标题:   5%|▌         | 1/20 [00:02<00:42,  2.22s/it]2025-06-21 16:36:04,507 - llm_client - INFO - 发送API请求 (尝试 1/3)\n",
            "2025-06-21 16:36:06,749 - httpx - INFO - HTTP Request: POST https://api.chavapa.com/v1/chat/completions \"HTTP/1.1 200 OK\"\n",
            "2025-06-21 16:36:06,753 - llm_client - INFO - 从content字段获取内容(聊天模型): S Homes: How One Feature Instantly Dates Your House—Finance Experts Weigh In\n",
            "2025-06-21 16:36:06,754 - llm_client - INFO - 本次请求使用 412 tokens，总计 814 tokens\n",
            "生成标题:  10%|█         | 2/20 [00:04<00:40,  2.24s/it]2025-06-21 16:36:06,757 - llm_client - INFO - 发送API请求 (尝试 1/3)\n",
            "2025-06-21 16:36:08,609 - httpx - INFO - HTTP Request: POST https://api.chavapa.com/v1/chat/completions \"HTTP/1.1 200 OK\"\n",
            "2025-06-21 16:36:08,612 - llm_client - INFO - 从content字段获取内容(聊天模型): Verlander Scolded by MLB Over Ball-Tampering Claims Amid All-Star Drama\n",
            "2025-06-21 16:36:08,614 - llm_client - INFO - 本次请求使用 422 tokens，总计 1236 tokens\n",
            "生成标题:  15%|█▌        | 3/20 [00:06<00:35,  2.06s/it]2025-06-21 16:36:08,616 - llm_client - INFO - 发送API请求 (尝试 1/3)\n",
            "2025-06-21 16:36:11,189 - httpx - INFO - HTTP Request: POST https://api.chavapa.com/v1/chat/completions \"HTTP/1.1 200 OK\"\n",
            "2025-06-21 16:36:11,192 - llm_client - INFO - 从content字段获取内容(聊天模型): O.J. Simpson Joins Twitter, Vows to 'Get Even' in Controversial Comeback\n",
            "2025-06-21 16:36:11,193 - llm_client - INFO - 本次请求使用 435 tokens，总计 1671 tokens\n",
            "生成标题:  20%|██        | 4/20 [00:08<00:36,  2.27s/it]2025-06-21 16:36:11,195 - llm_client - INFO - 发送API请求 (尝试 1/3)\n",
            "2025-06-21 16:36:13,186 - httpx - INFO - HTTP Request: POST https://api.chavapa.com/v1/chat/completions \"HTTP/1.1 200 OK\"\n",
            "2025-06-21 16:36:13,189 - llm_client - INFO - 从content字段获取内容(聊天模型): Year-Old Coco Gauff Stuns Venus Williams in Historic Wimbledon Upset\n",
            "2025-06-21 16:36:13,190 - llm_client - INFO - 本次请求使用 445 tokens，总计 2116 tokens\n",
            "生成标题:  25%|██▌       | 5/20 [00:10<00:32,  2.17s/it]2025-06-21 16:36:13,192 - llm_client - INFO - 发送API请求 (尝试 1/3)\n",
            "2025-06-21 16:36:17,949 - httpx - INFO - HTTP Request: POST https://api.chavapa.com/v1/chat/completions \"HTTP/1.1 200 OK\"\n",
            "2025-06-21 16:36:17,953 - llm_client - INFO - 从content字段获取内容(聊天模型): Financial Literacy Gap: How U.S. States Rank Ahead of International Literacy Day\n",
            "2025-06-21 16:36:17,955 - llm_client - INFO - 本次请求使用 397 tokens，总计 2513 tokens\n",
            "生成标题:  30%|███       | 6/20 [00:15<00:42,  3.05s/it]2025-06-21 16:36:17,959 - llm_client - INFO - 发送API请求 (尝试 1/3)\n",
            "2025-06-21 16:36:20,153 - httpx - INFO - HTTP Request: POST https://api.chavapa.com/v1/chat/completions \"HTTP/1.1 200 OK\"\n",
            "2025-06-21 16:36:20,158 - llm_client - INFO - 从content字段获取内容(聊天模型): Eagles' Carson Wentz Under Spotlight as NFL Offseason Shifts Focus to Eagles' Roster Moves\n",
            "2025-06-21 16:36:20,159 - llm_client - INFO - 本次请求使用 437 tokens，总计 2950 tokens\n",
            "生成标题:  35%|███▌      | 7/20 [00:17<00:36,  2.78s/it]2025-06-21 16:36:20,164 - llm_client - INFO - 发送API请求 (尝试 1/3)\n",
            "2025-06-21 16:36:22,715 - httpx - INFO - HTTP Request: POST https://api.chavapa.com/v1/chat/completions \"HTTP/1.1 200 OK\"\n",
            "2025-06-21 16:36:22,721 - llm_client - INFO - 从content字段获取内容(聊天模型): Smart Money Moves for Retirees: How to Maximize Your Savings Now\n",
            "2025-06-21 16:36:22,722 - llm_client - INFO - 本次请求使用 410 tokens，总计 3360 tokens\n",
            "生成标题:  40%|████      | 8/20 [00:20<00:32,  2.71s/it]2025-06-21 16:36:22,726 - llm_client - INFO - 发送API请求 (尝试 1/3)\n",
            "2025-06-21 16:36:26,207 - httpx - INFO - HTTP Request: POST https://api.chavapa.com/v1/chat/completions \"HTTP/1.1 200 OK\"\n",
            "2025-06-21 16:36:26,210 - llm_client - INFO - 从content字段获取内容(聊天模型): Universal Orlando Express Pass: Worth the Cost for Time-Strapped Visitors?\n",
            "2025-06-21 16:36:26,213 - llm_client - INFO - 本次请求使用 414 tokens，总计 3774 tokens\n",
            "生成标题:  45%|████▌     | 9/20 [00:23<00:32,  2.95s/it]2025-06-21 16:36:26,217 - llm_client - INFO - 发送API请求 (尝试 1/3)\n",
            "2025-06-21 16:36:28,009 - httpx - INFO - HTTP Request: POST https://api.chavapa.com/v1/chat/completions \"HTTP/1.1 200 OK\"\n",
            "2025-06-21 16:36:28,013 - llm_client - INFO - 从content字段获取内容(聊天模型): Veteran Anchor Angie Miles Bids Farewell to CBS 6 News After Stellar Career\n",
            "2025-06-21 16:36:28,014 - llm_client - INFO - 本次请求使用 442 tokens，总计 4216 tokens\n",
            "生成标题:  50%|█████     | 10/20 [00:25<00:25,  2.60s/it]2025-06-21 16:36:28,020 - llm_client - INFO - 发送API请求 (尝试 1/3)\n",
            "2025-06-21 16:36:29,990 - httpx - INFO - HTTP Request: POST https://api.chavapa.com/v1/chat/completions \"HTTP/1.1 200 OK\"\n",
            "2025-06-21 16:36:29,995 - llm_client - INFO - 从content字段获取内容(聊天模型): Apple design legend Jony Ive departs after 27 years, reshaping tech aesthetics\n",
            "2025-06-21 16:36:29,997 - llm_client - INFO - 本次请求使用 442 tokens，总计 4658 tokens\n",
            "生成标题:  55%|█████▌    | 11/20 [00:27<00:21,  2.41s/it]2025-06-21 16:36:30,002 - llm_client - INFO - 发送API请求 (尝试 1/3)\n",
            "2025-06-21 16:36:39,190 - httpx - INFO - HTTP Request: POST https://api.chavapa.com/v1/chat/completions \"HTTP/1.1 200 OK\"\n",
            "2025-06-21 16:36:39,195 - llm_client - INFO - 从content字段获取内容(聊天模型): Ship Tracks Vanish: How Traders Dodge US Sanctions on Iran & Venezuela\n",
            "2025-06-21 16:36:39,196 - llm_client - INFO - 本次请求使用 416 tokens，总计 5074 tokens\n",
            "生成标题:  60%|██████    | 12/20 [00:36<00:35,  4.47s/it]2025-06-21 16:36:39,202 - llm_client - INFO - 发送API请求 (尝试 1/3)\n",
            "2025-06-21 16:36:41,442 - httpx - INFO - HTTP Request: POST https://api.chavapa.com/v1/chat/completions \"HTTP/1.1 200 OK\"\n",
            "2025-06-21 16:36:41,447 - llm_client - INFO - 从content字段获取内容(聊天模型): Baltimore Public Housing Crisis: Poe Homes Without Water for 5 Days Despite Repairs\n",
            "2025-06-21 16:36:41,449 - llm_client - INFO - 本次请求使用 421 tokens，总计 5495 tokens\n",
            "生成标题:  65%|██████▌   | 13/20 [00:39<00:26,  3.80s/it]2025-06-21 16:36:41,454 - llm_client - INFO - 发送API请求 (尝试 1/3)\n",
            "2025-06-21 16:36:48,969 - httpx - INFO - HTTP Request: POST https://api.chavapa.com/v1/chat/completions \"HTTP/1.1 200 OK\"\n",
            "2025-06-21 16:36:48,973 - llm_client - INFO - 从content字段获取内容(聊天模型): NASA’s Rocket Launches Still Thrilling 50 Years After Apollo 11 Triumph\n",
            "2025-06-21 16:36:48,975 - llm_client - INFO - 本次请求使用 432 tokens，总计 5927 tokens\n",
            "生成标题:  70%|███████   | 14/20 [00:46<00:29,  4.93s/it]2025-06-21 16:36:48,980 - llm_client - INFO - 发送API请求 (尝试 1/3)\n",
            "2025-06-21 16:36:51,457 - httpx - INFO - HTTP Request: POST https://api.chavapa.com/v1/chat/completions \"HTTP/1.1 200 OK\"\n",
            "2025-06-21 16:36:51,461 - llm_client - INFO - 从content字段获取内容(聊天模型): New York Liberty’s Surge: Rising WNBA Team to Watch After Breaking Losing Streak\n",
            "2025-06-21 16:36:51,464 - llm_client - INFO - 本次请求使用 438 tokens，总计 6365 tokens\n",
            "生成标题:  75%|███████▌  | 15/20 [00:49<00:20,  4.19s/it]2025-06-21 16:36:51,468 - llm_client - INFO - 发送API请求 (尝试 1/3)\n",
            "2025-06-21 16:36:53,692 - httpx - INFO - HTTP Request: POST https://api.chavapa.com/v1/chat/completions \"HTTP/1.1 200 OK\"\n",
            "2025-06-21 16:36:53,695 - llm_client - INFO - 从content字段获取内容(聊天模型): Loggers and Environmentalists Unite to Combat Wildfires in Surprising Alliance\n",
            "2025-06-21 16:36:53,697 - llm_client - INFO - 本次请求使用 418 tokens，总计 6783 tokens\n",
            "生成标题:  80%|████████  | 16/20 [00:51<00:14,  3.60s/it]2025-06-21 16:36:53,700 - llm_client - INFO - 发送API请求 (尝试 1/3)\n",
            "2025-06-21 16:36:55,943 - httpx - INFO - HTTP Request: POST https://api.chavapa.com/v1/chat/completions \"HTTP/1.1 200 OK\"\n",
            "2025-06-21 16:36:55,948 - llm_client - INFO - 从content字段获取内容(聊天模型): Russell Wilson Stuns Mom With Dream House as Ultimate Mother's Day Gift\n",
            "2025-06-21 16:36:55,950 - llm_client - INFO - 本次请求使用 425 tokens，总计 7208 tokens\n",
            "生成标题:  85%|████████▌ | 17/20 [00:53<00:09,  3.20s/it]2025-06-21 16:36:55,954 - llm_client - INFO - 发送API请求 (尝试 1/3)\n",
            "2025-06-21 16:37:03,437 - httpx - INFO - HTTP Request: POST https://api.chavapa.com/v1/chat/completions \"HTTP/1.1 200 OK\"\n",
            "2025-06-21 16:37:03,440 - llm_client - INFO - 从content字段获取内容(聊天模型): Kentucky Missing Kids Case Seeks Class Action Amid Foster Care Concerns\n",
            "2025-06-21 16:37:03,441 - llm_client - INFO - 本次请求使用 434 tokens，总计 7642 tokens\n",
            "生成标题:  90%|█████████ | 18/20 [01:01<00:08,  4.49s/it]2025-06-21 16:37:03,445 - llm_client - INFO - 发送API请求 (尝试 1/3)\n",
            "2025-06-21 16:37:08,117 - httpx - INFO - HTTP Request: POST https://api.chavapa.com/v1/chat/completions \"HTTP/1.1 200 OK\"\n",
            "2025-06-21 16:37:08,122 - llm_client - INFO - 从content字段获取内容(聊天模型): Trump Unveils Middle East Peace Plan, Skirting Palestinian Statehood\n",
            "2025-06-21 16:37:08,124 - llm_client - INFO - 本次请求使用 407 tokens，总计 8049 tokens\n",
            "生成标题:  95%|█████████▌| 19/20 [01:05<00:04,  4.55s/it]2025-06-21 16:37:08,128 - llm_client - INFO - 发送API请求 (尝试 1/3)\n",
            "2025-06-21 16:37:16,532 - httpx - INFO - HTTP Request: POST https://api.chavapa.com/v1/chat/completions \"HTTP/1.1 200 OK\"\n",
            "2025-06-21 16:37:16,537 - llm_client - INFO - 从content字段获取内容(聊天模型): Alex Nedeljkovic Secures Two-Year Deal With Hurricanes After Calder Cup Win\n",
            "2025-06-21 16:37:16,539 - llm_client - INFO - 本次请求使用 446 tokens，总计 8495 tokens\n",
            "生成标题: 100%|██████████| 20/20 [01:14<00:00,  3.71s/it]\n",
            "2025-06-21 16:37:16,547 - main - INFO - 步骤 3: 整理结果\n",
            "2025-06-21 16:37:16,554 - main - INFO - 生成结果已保存到: ./outputs/generated_titles\\generation_results_20250621_163716.json\n",
            "2025-06-21 16:37:16,559 - main - INFO - 标题对比文件已保存到: ./outputs/generated_titles\\title_comparison_20250621_163716.txt\n",
            "2025-06-21 16:37:16,560 - main - INFO - API使用统计:\n",
            "2025-06-21 16:37:16,564 - main - INFO -   总请求数: 20\n",
            "2025-06-21 16:37:16,566 - main - INFO -   失败请求数: 0\n",
            "2025-06-21 16:37:16,568 - main - INFO -   成功率: 100.00%\n",
            "2025-06-21 16:37:16,570 - main - INFO -   总token使用: 8495\n",
            "2025-06-21 16:37:16,573 - main - INFO -   剩余token: 41505\n",
            "2025-06-21 16:37:16,575 - main - INFO - 标题生成完成，共生成 20 个标题\n"
          ]
        },
        {
          "name": "stdout",
          "output_type": "stream",
          "text": [
            "\n",
            "✅ 生成完成\n",
            "\n",
            "📈 API使用统计:\n",
            "  总请求数: 20\n",
            "  成功率: 100.00%\n",
            "  使用tokens: 8495\n",
            "  剩余tokens: 41505\n",
            "\n",
            "📝 生成结果概览:\n",
            "  成功生成: 20\n",
            "  总样本数: 20\n",
            "  成功率: 100.00%\n"
          ]
        }
      ],
      "source": [
        "# 创建主生成器\n",
        "generator = PersonalizedTitleGenerator()\n",
        "\n",
        "# 配置生成参数\n",
        "generation_config = {\n",
        "    'mode': 'single',  # 或 'batch'\n",
        "    'max_samples': 20,  # 限制样本数量以节省API调用\n",
        "    'force_reprocess': False\n",
        "}\n",
        "\n",
        "print(f\"🚀 开始完整生成流程\")\n",
        "print(f\"📊 配置: {generation_config}\")\n",
        "\n",
        "# 运行生成\n",
        "success = generator.run_generation(**generation_config)\n",
        "\n",
        "if success:\n",
        "    print(\"\\n✅ 生成完成\")\n",
        "    \n",
        "    # 显示API使用统计\n",
        "    print(f\"\\n📈 API使用统计:\")\n",
        "    print(f\"  总请求数: {generator.llm_client.total_requests}\")\n",
        "    print(f\"  成功率: {((generator.llm_client.total_requests - generator.llm_client.failed_requests) / max(generator.llm_client.total_requests, 1)):.2%}\")\n",
        "    print(f\"  使用tokens: {generator.llm_client.total_tokens_used}\")\n",
        "    print(f\"  剩余tokens: {50000 - generator.llm_client.total_tokens_used}\")\n",
        "    \n",
        "    # 显示生成结果概览\n",
        "    results = generator.results\n",
        "    print(f\"\\n📝 生成结果概览:\")\n",
        "    print(f\"  成功生成: {len([t for t in results['generated_titles'] if t and '失败' not in t])}\")\n",
        "    print(f\"  总样本数: {len(results['generated_titles'])}\")\n",
        "    print(f\"  成功率: {len([t for t in results['generated_titles'] if t and '失败' not in t]) / len(results['generated_titles']):.2%}\")\n",
        "else:\n",
        "    print(\"❌ 生成失败\")"
      ]
    },
    {
      "cell_type": "code",
      "execution_count": 11,
      "metadata": {},
      "outputs": [
        {
          "name": "stdout",
          "output_type": "stream",
          "text": [
            "📄 生成结果样例:\n",
            "\n",
            "样本 1:\n",
            "  生成标题: Trump's Pollution Rollback Sparks High-Stakes Legal Fight Over Climate Rules\n",
            "  参考标题: legal battle looms over trump epa's rule change of obama's clean power plan rule\n",
            "  用户兴趣: news\n",
            "  新闻类别: news\n",
            "--------------------------------------------------\n",
            "样本 2:\n",
            "  生成标题: S Homes How One Feature Instantly Dates Your House—Finance Experts Weigh In\n",
            "  参考标题: wise choices for stylish updating of old homes\n",
            "  用户兴趣: news\n",
            "  新闻类别: lifestyle\n",
            "--------------------------------------------------\n",
            "样本 3:\n",
            "  生成标题: Verlander Scolded by MLB Over Ball-Tampering Claims Amid All-Star Drama\n",
            "  参考标题: verlander may be reconsidering his stance on mlbs juicing balls\n",
            "  用户兴趣: news\n",
            "  新闻类别: sports\n",
            "--------------------------------------------------\n",
            "样本 4:\n",
            "  生成标题: O.J. Simpson Joins Twitter, Vows to 'Get Even' in Controversial Comeback\n",
            "  参考标题: infamous o.j. simpson launching official twitter account\n",
            "  用户兴趣: news\n",
            "  新闻类别: tv\n",
            "--------------------------------------------------\n",
            "样本 5:\n",
            "  生成标题: Year-Old Coco Gauff Stuns Venus Williams in Historic Wimbledon Upset\n",
            "  参考标题: 15 year old cori gauff beats venus williams at wimbledon\n",
            "  用户兴趣: news\n",
            "  新闻类别: sports\n",
            "--------------------------------------------------\n"
          ]
        }
      ],
      "source": [
        "# 查看生成结果样例\n",
        "if 'generator' in locals() and generator.results['generated_titles']:\n",
        "    print(\"📄 生成结果样例:\\n\")\n",
        "    \n",
        "    for i in range(min(5, len(generator.results['generated_titles']))):\n",
        "        gen_title = generator.results['generated_titles'][i]\n",
        "        ref_title = generator.results['reference_titles'][i]\n",
        "        user_interest = generator.results['user_interests'][i]['primary_interest']\n",
        "        category = generator.results['news_categories'][i]\n",
        "        \n",
        "        print(f\"样本 {i+1}:\")\n",
        "        print(f\"  生成标题: {gen_title}\")\n",
        "        print(f\"  参考标题: {ref_title}\")\n",
        "        print(f\"  用户兴趣: {user_interest}\")\n",
        "        print(f\"  新闻类别: {category}\")\n",
        "        print(\"-\" * 50)"
      ]
    },
    {
      "cell_type": "markdown",
      "metadata": {},
      "source": [
        "## 7. 效果评估\n",
        "\n",
        "使用ROUGE等指标评估生成效果"
      ]
    },
    {
      "cell_type": "code",
      "execution_count": 12,
      "metadata": {},
      "outputs": [
        {
          "name": "stderr",
          "output_type": "stream",
          "text": [
            "2025-06-21 16:37:16,644 - main - INFO - 开始评估生成结果...\n",
            "2025-06-21 16:37:16,646 - evaluator - WARNING - ROUGE评估器不可用，使用简化评估\n",
            "2025-06-21 16:37:16,651 - evaluator - INFO - 开始LLM个性化评估...\n",
            "2025-06-21 16:37:16,653 - llm_client - INFO - 发送API请求 (尝试 1/3)\n"
          ]
        },
        {
          "name": "stdout",
          "output_type": "stream",
          "text": [
            "📊 开始效果评估（包含LLM评估）...\n",
            "\n"
          ]
        },
        {
          "name": "stderr",
          "output_type": "stream",
          "text": [
            "2025-06-21 16:37:20,466 - httpx - INFO - HTTP Request: POST https://api.chavapa.com/v1/chat/completions \"HTTP/1.1 200 OK\"\n",
            "2025-06-21 16:37:20,472 - llm_client - INFO - 从content字段获取内容(聊天模型): ,8.0,6.5,5.0,7.0 5.0,6.0,4.5,5.5,5.0 3.0,2.0,2.5,4.0,3.0 4.0,3.0,3.5,5.0,4.0 3.5,2.0,2.5,4.0,3.0\n",
            "2025-06-21 16:37:20,474 - llm_client - INFO - 本次请求使用 1128 tokens，总计 1128 tokens\n",
            "2025-06-21 16:37:20,477 - evaluator - INFO - 个性化评估解析完成，共1组分数\n",
            "2025-06-21 16:37:20,479 - llm_client - INFO - 发送API请求 (尝试 1/3)\n",
            "2025-06-21 16:37:23,485 - httpx - INFO - HTTP Request: POST https://api.chavapa.com/v1/chat/completions \"HTTP/1.1 200 OK\"\n",
            "2025-06-21 16:37:23,488 - llm_client - INFO - 从content字段获取内容(聊天模型): ,8.0,6.0,5.0,6.5 3.0,2.0,1.0,4.0,2.5 8.0,9.0,7.0,6.0,7.5 2.0,1.0,1.0,3.0,1.5 4.0,3.0,2.0,5.0,3.5\n",
            "2025-06-21 16:37:23,490 - llm_client - INFO - 本次请求使用 1131 tokens，总计 2259 tokens\n",
            "2025-06-21 16:37:23,493 - evaluator - INFO - 个性化评估解析完成，共1组分数\n",
            "2025-06-21 16:37:23,495 - llm_client - INFO - 发送API请求 (尝试 1/3)\n",
            "2025-06-21 16:37:29,708 - httpx - INFO - HTTP Request: POST https://api.chavapa.com/v1/chat/completions \"HTTP/1.1 200 OK\"\n",
            "2025-06-21 16:37:29,712 - llm_client - INFO - 从content字段获取内容(聊天模型): ,8.0,6.0,6.5,7.0 8.0,8.0,7.0,7.0,7.5 4.0,3.0,2.0,3.0,3.0 7.5,8.0,5.0,6.0,6.5 5.0,4.0,3.0,4.0,4.0\n",
            "2025-06-21 16:37:29,714 - llm_client - INFO - 本次请求使用 1133 tokens，总计 3392 tokens\n",
            "2025-06-21 16:37:29,716 - evaluator - INFO - 个性化评估解析完成，共1组分数\n",
            "2025-06-21 16:37:29,719 - llm_client - INFO - 发送API请求 (尝试 1/3)\n",
            "2025-06-21 16:37:34,059 - httpx - INFO - HTTP Request: POST https://api.chavapa.com/v1/chat/completions \"HTTP/1.1 200 OK\"\n",
            "2025-06-21 16:37:34,063 - llm_client - INFO - 从content字段获取内容(聊天模型): ,2.0,3.0,4.0,3.0 4.0,3.0,4.0,5.0,4.0 5.0,3.0,4.0,5.0,4.0 7.0,8.0,7.0,6.0,7.0 4.0,3.0,4.0,5.0,4.0\n",
            "2025-06-21 16:37:34,067 - llm_client - INFO - 本次请求使用 1121 tokens，总计 4513 tokens\n",
            "2025-06-21 16:37:34,069 - evaluator - INFO - 个性化评估解析完成，共1组分数\n",
            "2025-06-21 16:37:34,073 - evaluator - INFO - 开始LLM质量评估...\n",
            "2025-06-21 16:37:34,075 - evaluator - INFO - 开始LLM质量评估...\n",
            "2025-06-21 16:37:34,079 - evaluator - INFO - LLM质量评估准备就绪，共20个样本\n",
            "2025-06-21 16:37:34,081 - evaluator - INFO - 正在评估批次 1，包含 5 个标题\n",
            "2025-06-21 16:37:34,084 - llm_client - INFO - 发送API请求 (尝试 1/3)\n",
            "2025-06-21 16:37:37,032 - httpx - INFO - HTTP Request: POST https://api.chavapa.com/v1/chat/completions \"HTTP/1.1 200 OK\"\n",
            "2025-06-21 16:37:37,036 - llm_client - INFO - 从content字段获取内容(聊天模型): ,8.5,9.0,8.5,8.8 5.0,6.0,4.0,5.0,5.0 7.0,8.0,7.5,7.0,7.4 8.0,9.0,8.5,7.5,8.3 9.5,9.0,9.5,9.0,9.3\n",
            "2025-06-21 16:37:37,037 - llm_client - INFO - 本次请求使用 800 tokens，总计 5313 tokens\n",
            "2025-06-21 16:37:37,038 - evaluator - INFO - 解析完成，共5组分数，每组5个值\n",
            "2025-06-21 16:37:37,041 - evaluator - INFO - 批次评估成功，获得 5 个分数\n",
            "2025-06-21 16:37:37,042 - evaluator - INFO - 正在评估批次 2，包含 5 个标题\n",
            "2025-06-21 16:37:37,045 - llm_client - INFO - 发送API请求 (尝试 1/3)\n",
            "2025-06-21 16:37:40,370 - httpx - INFO - HTTP Request: POST https://api.chavapa.com/v1/chat/completions \"HTTP/1.1 200 OK\"\n",
            "2025-06-21 16:37:40,375 - llm_client - INFO - 从content字段获取内容(聊天模型): ,8.0,8.5,7.0,8.0 8.0,7.5,7.0,6.5,7.0 8.5,8.0,9.0,8.5,8.5 8.0,8.5,8.0,8.0,8.0 9.0,8.5,9.0,8.0,8.5\n",
            "2025-06-21 16:37:40,377 - llm_client - INFO - 本次请求使用 781 tokens，总计 6094 tokens\n",
            "2025-06-21 16:37:40,380 - evaluator - INFO - 解析完成，共5组分数，每组5个值\n",
            "2025-06-21 16:37:40,383 - evaluator - INFO - 批次评估成功，获得 5 个分数\n",
            "2025-06-21 16:37:40,385 - evaluator - INFO - 正在评估批次 3，包含 5 个标题\n",
            "2025-06-21 16:37:40,388 - llm_client - INFO - 发送API请求 (尝试 1/3)\n",
            "2025-06-21 16:37:52,074 - httpx - INFO - HTTP Request: POST https://api.chavapa.com/v1/chat/completions \"HTTP/1.1 200 OK\"\n",
            "2025-06-21 16:37:52,075 - llm_client - INFO - 从content字段获取内容(聊天模型): ,9.0,9.0,8.0,8.7 8.0,8.5,7.5,7.0,7.8 9.0,7.5,8.5,6.5,8.0 7.5,7.0,8.0,7.5,7.5 8.0,8.0,8.0,7.0,7.8\n",
            "2025-06-21 16:37:52,077 - llm_client - INFO - 本次请求使用 798 tokens，总计 6892 tokens\n",
            "2025-06-21 16:37:52,078 - evaluator - INFO - 解析完成，共5组分数，每组5个值\n",
            "2025-06-21 16:37:52,079 - evaluator - INFO - 批次评估成功，获得 5 个分数\n",
            "2025-06-21 16:37:52,080 - evaluator - INFO - 正在评估批次 4，包含 5 个标题\n",
            "2025-06-21 16:37:52,082 - llm_client - INFO - 发送API请求 (尝试 1/3)\n",
            "2025-06-21 16:37:58,447 - httpx - INFO - HTTP Request: POST https://api.chavapa.com/v1/chat/completions \"HTTP/1.1 200 OK\"\n",
            "2025-06-21 16:37:58,449 - llm_client - INFO - 从content字段获取内容(聊天模型): ,8.0,8.5,7.5,8.0 9.0,9.5,9.0,8.5,9.0 5.0,6.0,5.5,6.5,5.5 8.0,7.5,8.0,7.0,7.5 8.5,7.0,8.0,7.5,7.5\n",
            "2025-06-21 16:37:58,450 - llm_client - INFO - 本次请求使用 800 tokens，总计 7692 tokens\n",
            "2025-06-21 16:37:58,450 - evaluator - INFO - 解析完成，共5组分数，每组5个值\n",
            "2025-06-21 16:37:58,451 - evaluator - INFO - 批次评估成功，获得 5 个分数\n",
            "2025-06-21 16:37:58,452 - evaluator - INFO - LLM质量评估完成，平均分: 0.815\n",
            "2025-06-21 16:37:58,454 - evaluator - INFO - 评估报告已保存到: ./outputs/evaluation_results\\evaluation_report_20250621_163758.txt\n",
            "2025-06-21 16:37:58,456 - evaluator - INFO - 详细评估结果已保存到: ./outputs/evaluation_results\\detailed_evaluation_20250621_163758.json\n"
          ]
        },
        {
          "name": "stdout",
          "output_type": "stream",
          "text": [
            "\n",
            "================================================================================\n",
            "个性化新闻标题生成 - 详细评估报告\n",
            "================================================================================\n",
            "\n",
            "📊 基本统计信息:\n",
            "├─ 总样本数: 20\n",
            "├─ 有效样本数: 20\n",
            "└─ 成功率: 100.00%\n",
            "\n",
            "📝 ROUGE评分 (自动评估 - 与参考标题的相似性):\n",
            "├─ ROUGE-1 F-Score: 0.0000\n",
            "├─ ROUGE-2 F-Score: 0.0000\n",
            "└─ ROUGE-L F-Score: 0.0000\n",
            "\n",
            "🤖 LLM质量评估详情:\n",
            "├─ 质量得分 (0-1): 0.8150\n",
            "├─ 等效10分制: 8.15/10\n",
            "└─ 评分标准差: 0.0000\n",
            "\n",
            "🎯 LLM个性化评估 (大模型评分 - 个性化程度):\n",
            "├─ 兴趣匹配度: 0.6500\n",
            "├─ 类别相关性: 0.5375\n",
            "├─ 历史一致性: 0.5125\n",
            "├─ 个性化创新: 0.5875\n",
            "└─ LLM综合个性化: 0.5000\n",
            "\n",
            "✨ 标题质量评估 (自动评估 - 基于规则):\n",
            "├─ 长度合理性: 0.9700\n",
            "├─ 标题多样性: 1.0000\n",
            "└─ 平均标题长度: 74.2 字符\n",
            "\n",
            "🏆 综合评分详情 (加权计算):\n",
            "├─ ROUGE得分 (权重35%): 0.0000\n",
            "├─ LLM质量得分 (权重30%): 0.8150\n",
            "├─ LLM个性化得分 (权重25%): 0.5000\n",
            "├─ 标题质量得分 (权重10%): 0.9850\n",
            "└─ 📈 最终综合得分: 0.4680\n",
            "\n",
            "📋 评分说明:\n",
            "• ROUGE评分 (35%): 衡量生成标题与参考标题的词汇重叠度\n",
            "• LLM质量评分 (30%): 大模型从准确性、吸引力、清晰度等维度评分\n",
            "• LLM个性化评分 (25%): 大模型从个性化角度评估标题质量\n",
            "• 标题质量评分 (10%): 基于长度合理性、多样性等规则评估\n",
            "• 最终得分: 各项评分的加权平均（范围0-1）\n",
            "\n",
            "🎯 说明: 本评估集成了ROUGE自动评估和LLM智能评估，全面反映标题生成质量\n",
            "\n"
          ]
        },
        {
          "name": "stderr",
          "output_type": "stream",
          "text": [
            "2025-06-21 16:37:59,765 - evaluator - INFO - 评估图表已保存到: ./outputs/evaluation_results\\evaluation_chart_20250621_163758.png\n"
          ]
        }
      ],
      "source": [
        "# 运行评估（集成LLM评估）\n",
        "if 'generator' in locals() and generator.results['generated_titles']:\n",
        "    print(\"📊 开始效果评估（包含LLM评估）...\\n\")\n",
        "    \n",
        "    # 执行综合评估\n",
        "    success = generator.run_evaluation()\n",
        "    \n",
        "    if success:\n",
        "        eval_results = generator.evaluator.evaluation_results\n",
        "        \n",
        "    else:\n",
        "        print(\"❌ 评估失败\")\n",
        "else:\n",
        "    print(\"⚠️ 没有可评估的生成结果\")"
      ]
    },
    {
      "cell_type": "code",
      "execution_count": 13,
      "metadata": {},
      "outputs": [
        {
          "data": {
            "image/png": "[encoded data removed]",
            "text/plain": [
              "<Figure size 1200x1000 with 4 Axes>"
            ]
          },
          "metadata": {},
          "output_type": "display_data"
        },
        {
          "name": "stdout",
          "output_type": "stream",
          "text": [
            "✅ 可视化结果已保存到: ./outputs/evaluation_results_chart.png\n"
          ]
        },
        {
          "data": {
            "text/plain": [
              "<Figure size 640x480 with 0 Axes>"
            ]
          },
          "metadata": {},
          "output_type": "display_data"
        }
      ],
      "source": [
        "# 可视化评估结果\n",
        "if 'generator' in locals() and hasattr(generator.evaluator, 'evaluation_results') and generator.evaluator.evaluation_results:\n",
        "    eval_results = generator.evaluator.evaluation_results\n",
        "    \n",
        "    # 创建评估结果可视化\n",
        "    fig, axes = plt.subplots(2, 2, figsize=(12, 10))\n",
        "    fig.suptitle('个性化新闻标题生成 - 评估结果可视化', fontsize=16)\n",
        "    \n",
        "    # 1. ROUGE分数\n",
        "    rouge_scores = eval_results.get('rouge_scores', {})\n",
        "    if rouge_scores:\n",
        "        rouge_metrics = [k.replace('_f', '') for k in rouge_scores.keys() if k.endswith('_f')]\n",
        "        rouge_values = [rouge_scores.get(f'{m}_f', 0) for m in rouge_metrics]\n",
        "        \n",
        "        axes[0, 0].bar(rouge_metrics, rouge_values, color='skyblue', alpha=0.8)\n",
        "        axes[0, 0].set_title('ROUGE F-Scores')\n",
        "        axes[0, 0].set_ylabel('Score')\n",
        "        axes[0, 0].set_ylim(0, 1)\n",
        "        for i, v in enumerate(rouge_values):\n",
        "            axes[0, 0].text(i, v + 0.01, f'{v:.3f}', ha='center', va='bottom')\n",
        "    else:\n",
        "        axes[0, 0].text(0.5, 0.5, 'ROUGE数据\\n不可用', ha='center', va='center', \n",
        "                       transform=axes[0, 0].transAxes, fontsize=12)\n",
        "        axes[0, 0].set_title('ROUGE F-Scores')\n",
        "    \n",
        "    # 2. LLM个性化评估\n",
        "    llm_personalization = eval_results.get('llm_personalization', {})\n",
        "    if llm_personalization:\n",
        "        pers_labels = ['兴趣\\n匹配度', '类别\\n相关性']\n",
        "        pers_values = [llm_personalization.get('llm_interest_match', 0), \n",
        "                      llm_personalization.get('llm_category_relevance', 0)]\n",
        "        \n",
        "        axes[0, 1].bar(pers_labels, pers_values, color='lightcoral', alpha=0.8)\n",
        "        axes[0, 1].set_title('LLM个性化评估')\n",
        "        axes[0, 1].set_ylabel('Score')\n",
        "        axes[0, 1].set_ylim(0, 1)\n",
        "        for i, v in enumerate(pers_values):\n",
        "            axes[0, 1].text(i, v + 0.01, f'{v:.3f}', ha='center', va='bottom')\n",
        "    else:\n",
        "        axes[0, 1].text(0.5, 0.5, 'LLM个性化数据\\n不可用', ha='center', va='center', \n",
        "                       transform=axes[0, 1].transAxes, fontsize=12)\n",
        "        axes[0, 1].set_title('LLM个性化评估')\n",
        "    \n",
        "    # 3. 标题质量\n",
        "    title_quality = eval_results.get('title_quality', {})\n",
        "    if title_quality:\n",
        "        quality_labels = ['长度\\n合理性', '标题\\n多样性']\n",
        "        quality_values = [title_quality.get('length_reasonableness', 0), \n",
        "                         title_quality.get('title_diversity', 0)]\n",
        "        \n",
        "        axes[1, 0].bar(quality_labels, quality_values, color='lightgreen', alpha=0.8)\n",
        "        axes[1, 0].set_title('标题质量')\n",
        "        axes[1, 0].set_ylabel('Score')\n",
        "        axes[1, 0].set_ylim(0, 1)\n",
        "        for i, v in enumerate(quality_values):\n",
        "            axes[1, 0].text(i, v + 0.01, f'{v:.3f}', ha='center', va='bottom')\n",
        "    else:\n",
        "        axes[1, 0].text(0.5, 0.5, '标题质量数据\\n不可用', ha='center', va='center', \n",
        "                       transform=axes[1, 0].transAxes, fontsize=12)\n",
        "        axes[1, 0].set_title('标题质量')\n",
        "    \n",
        "    # 4. 综合评分饼图\n",
        "    overall_score = eval_results.get('overall_score', 0)\n",
        "    \n",
        "    # 处理可能的字典类型\n",
        "    if isinstance(overall_score, dict):\n",
        "        comprehensive_scores = eval_results.get('comprehensive_scores', {})\n",
        "        overall_score = comprehensive_scores.get('final_comprehensive_score', 0)\n",
        "    \n",
        "    # 确保分数在0-1范围内\n",
        "    overall_score = max(0.0, min(1.0, overall_score))\n",
        "    remaining_score = 1.0 - overall_score\n",
        "    \n",
        "    colors = ['gold', 'lightgray']\n",
        "    axes[1, 1].pie([overall_score, remaining_score], \n",
        "                   labels=['已达成', '待提升'], \n",
        "                   colors=colors,\n",
        "                   autopct='%1.1f%%',\n",
        "                   startangle=90)\n",
        "    axes[1, 1].set_title(f'综合评分: {overall_score:.3f}')\n",
        "    \n",
        "    plt.tight_layout()\n",
        "    plt.show()\n",
        "    \n",
        "    # 保存可视化图表\n",
        "    output_path = './outputs/evaluation_results_chart.png'\n",
        "    plt.savefig(output_path, dpi=300, bbox_inches='tight')\n",
        "    print(f\"✅ 可视化结果已保存到: {output_path}\")\n",
        "    \n",
        "else:\n",
        "    print(\"⚠️ 没有可视化的评估结果\")\n"
      ]
    },
    {
      "cell_type": "markdown",
      "metadata": {},
      "source": [
        "## 8. 与原始PENS方法对比分析"
      ]
    },
    {
      "cell_type": "code",
      "execution_count": 14,
      "metadata": {},
      "outputs": [
        {
          "name": "stdout",
          "output_type": "stream",
          "text": [
            "🔍 方法对比分析\n",
            "\n",
            " 评估维度 PENS原方法 提示词工程\n",
            " 实现难度      困难    简单\n",
            " 计算资源       高     低\n",
            " 训练时间  长(数小时)  无需训练\n",
            " 推理速度       快    中等\n",
            "个性化能力       强     强\n",
            " 可解释性       弱     强\n",
            "  扩展性      中等     高\n",
            "\n",
            "📊 如果有PENS基线结果，这里可以进行数值对比:\n",
            "\n",
            "📈 ROUGE分数对比:\n",
            "  ROUGE-1:\n",
            "    PENS基线: 0.2419\n",
            "    提示词工程: 0.0000\n",
            "    差异: -0.2419 (下降)\n",
            "\n",
            "  ROUGE-2:\n",
            "    PENS基线: 0.0863\n",
            "    提示词工程: 0.0000\n",
            "    差异: -0.0863 (下降)\n",
            "\n",
            "  ROUGE-L:\n",
            "    PENS基线: 0.2135\n",
            "    提示词工程: 0.0000\n",
            "    差异: -0.2135 (下降)\n",
            "\n"
          ]
        }
      ],
      "source": [
        "# 方法对比分析\n",
        "print(\"🔍 方法对比分析\\n\")\n",
        "\n",
        "comparison_data = {\n",
        "    '评估维度': ['实现难度', '计算资源', '训练时间', '推理速度', '个性化能力', '可解释性', '扩展性'],\n",
        "    'PENS原方法': ['困难', '高', '长(数小时)', '快', '强', '弱', '中等'],\n",
        "    '提示词工程': ['简单', '低', '无需训练', '中等', '强', '强', '高']\n",
        "}\n",
        "\n",
        "comparison_df = pd.DataFrame(comparison_data)\n",
        "print(comparison_df.to_string(index=False))\n",
        "\n",
        "print(\"\\n📊 如果有PENS基线结果，这里可以进行数值对比:\")\n",
        "\n",
        "# PENS基线结果（从PENS运行结果中获取）\n",
        "pens_baseline = {\n",
        "    'rouge-1': 0.2419,\n",
        "    'rouge-2': 0.0863,\n",
        "    'rouge-l': 0.2135\n",
        "}\n",
        "\n",
        "if 'generator' in locals() and hasattr(generator.evaluator, 'evaluation_results'):\n",
        "    current_results = generator.evaluator.evaluation_results.get('rouge_scores', {})\n",
        "    \n",
        "    print(\"\\n📈 ROUGE分数对比:\")\n",
        "    for metric in ['rouge-1', 'rouge-2', 'rouge-l']:\n",
        "        baseline_score = pens_baseline.get(metric, 0)\n",
        "        current_score = current_results.get(f'{metric}_f', 0)\n",
        "        improvement = current_score - baseline_score\n",
        "        \n",
        "        print(f\"  {metric.upper()}:\")\n",
        "        print(f\"    PENS基线: {baseline_score:.4f}\")\n",
        "        print(f\"    提示词工程: {current_score:.4f}\")\n",
        "        print(f\"    差异: {improvement:+.4f} ({'提升' if improvement > 0 else '下降' if improvement < 0 else '持平'})\")\n",
        "        print()"
      ]
    },
    {
      "cell_type": "markdown",
      "metadata": {},
      "source": [
        "## 9. 结果分析与总结"
      ]
    },
    {
      "cell_type": "code",
      "execution_count": 15,
      "metadata": {},
      "outputs": [
        {
          "name": "stdout",
          "output_type": "stream",
          "text": [
            "📝 项目总结与分析\n",
            "\n",
            "✅ 成功实现的功能:\n",
            "  1. 数据预处理 - 从PENS数据中提取用户历史和兴趣\n",
            "  2. 提示词工程 - 设计多种风格的个性化生成提示词\n",
            "  3. API集成 - 成功调用DeepSeek大模型API\n",
            "  4. 批量生成 - 支持单个和批量两种生成模式\n",
            "  5. 效果评估 - 使用ROUGE等指标进行全面评估\n",
            "\n",
            "💡 技术亮点:\n",
            "  • 自适应提示词设计 - 根据用户兴趣和内容长度自动选择最佳提示词风格\n",
            "  • Token优化策略 - 智能压缩提示词，在50k token限制内最大化效果\n",
            "  • 批量处理优化 - 减少API调用次数，提高成本效率\n",
            "  • 多维度评估 - 不仅评估ROUGE分数，还包括个性化程度和标题质量\n",
            "\n",
            "📊 效率分析:\n",
            "  处理样本数: 20\n",
            "  API请求数: 20\n",
            "  平均每样本请求数: 1.00\n",
            "  总token使用: 8495\n",
            "  平均每样本token: 424.8\n",
            "  API成功率: 100.00%\n",
            "  估算成本: $0.0170 USD\n",
            "\n",
            "🚀 可优化方向:\n",
            "  1. 提示词优化 - 基于评估结果进一步调优提示词设计\n",
            "  2. 缓存机制 - 对相似用户或新闻实现智能缓存\n",
            "  3. 多模型集成 - 结合多个大模型的输出进行ensemble\n",
            "  4. 在线学习 - 根据用户反馈动态调整个性化策略\n",
            "  5. 领域适应 - 针对不同新闻领域设计专门的提示词\n",
            "\n",
            "🎯 项目价值:\n",
            "  • 技术创新: 将传统NLP任务转化为提示词工程问题\n",
            "  • 实用性强: 无需GPU训练，可快速部署应用\n",
            "  • 成本可控: 通过批量处理和token优化控制API使用成本\n",
            "  • 可扩展性: 易于扩展到其他个性化文本生成任务\n",
            "\n",
            "🏁 总结:\n",
            "  本项目成功验证了使用提示词工程方法实现个性化新闻标题生成的可行性。\n",
            "  相比传统的神经网络训练方法，该方案具有实现简单、资源需求低、\n",
            "  部署快速等优势，为个性化内容生成提供了新的技术路径。\n"
          ]
        }
      ],
      "source": [
        "print(\"📝 项目总结与分析\\n\")\n",
        "\n",
        "print(\"✅ 成功实现的功能:\")\n",
        "print(\"  1. 数据预处理 - 从PENS数据中提取用户历史和兴趣\")\n",
        "print(\"  2. 提示词工程 - 设计多种风格的个性化生成提示词\")\n",
        "print(\"  3. API集成 - 成功调用DeepSeek大模型API\")\n",
        "print(\"  4. 批量生成 - 支持单个和批量两种生成模式\")\n",
        "print(\"  5. 效果评估 - 使用ROUGE等指标进行全面评估\")\n",
        "\n",
        "print(\"\\n💡 技术亮点:\")\n",
        "print(\"  • 自适应提示词设计 - 根据用户兴趣和内容长度自动选择最佳提示词风格\")\n",
        "print(\"  • Token优化策略 - 智能压缩提示词，在50k token限制内最大化效果\")\n",
        "print(\"  • 批量处理优化 - 减少API调用次数，提高成本效率\")\n",
        "print(\"  • 多维度评估 - 不仅评估ROUGE分数，还包括个性化程度和标题质量\")\n",
        "\n",
        "if 'generator' in locals() and generator.results['generated_titles']:\n",
        "    # API使用效率分析\n",
        "    total_samples = len(generator.results['generated_titles'])\n",
        "    \n",
        "    print(f\"\\n📊 效率分析:\")\n",
        "    print(f\"  处理样本数: {total_samples}\")\n",
        "    print(f\"  API请求数: {generator.llm_client.total_requests}\")\n",
        "    print(f\"  平均每样本请求数: {generator.llm_client.total_requests / total_samples:.2f}\")\n",
        "    print(f\"  总token使用: {generator.llm_client.total_tokens_used}\")\n",
        "    print(f\"  平均每样本token: {generator.llm_client.total_tokens_used / total_samples:.1f}\")\n",
        "    print(f\"  API成功率: {((generator.llm_client.total_requests - generator.llm_client.failed_requests) / max(generator.llm_client.total_requests, 1)):.2%}\")\n",
        "    \n",
        "    # 成本估算（假设价格）\n",
        "    estimated_cost_per_1k_tokens = 0.002  # 假设价格，实际需要查看API定价\n",
        "    estimated_cost = (generator.llm_client.total_tokens_used / 1000) * estimated_cost_per_1k_tokens\n",
        "    print(f\"  估算成本: ${estimated_cost:.4f} USD\")\n",
        "\n",
        "print(\"\\n🚀 可优化方向:\")\n",
        "print(\"  1. 提示词优化 - 基于评估结果进一步调优提示词设计\")\n",
        "print(\"  2. 缓存机制 - 对相似用户或新闻实现智能缓存\")\n",
        "print(\"  3. 多模型集成 - 结合多个大模型的输出进行ensemble\")\n",
        "print(\"  4. 在线学习 - 根据用户反馈动态调整个性化策略\")\n",
        "print(\"  5. 领域适应 - 针对不同新闻领域设计专门的提示词\")\n",
        "\n",
        "print(\"\\n🎯 项目价值:\")\n",
        "print(\"  • 技术创新: 将传统NLP任务转化为提示词工程问题\")\n",
        "print(\"  • 实用性强: 无需GPU训练，可快速部署应用\")\n",
        "print(\"  • 成本可控: 通过批量处理和token优化控制API使用成本\")\n",
        "print(\"  • 可扩展性: 易于扩展到其他个性化文本生成任务\")\n",
        "\n",
        "print(\"\\n🏁 总结:\")\n",
        "print(\"  本项目成功验证了使用提示词工程方法实现个性化新闻标题生成的可行性。\")\n",
        "print(\"  相比传统的神经网络训练方法，该方案具有实现简单、资源需求低、\")\n",
        "print(\"  部署快速等优势，为个性化内容生成提供了新的技术路径。\")"
      ]
    },
    {
      "cell_type": "markdown",
      "metadata": {},
      "source": [
        "## 10. 导出和保存结果\n",
        "\n",
        "将生成结果和评估报告导出以便进一步分析"
      ]
    },
    {
      "cell_type": "code",
      "execution_count": 16,
      "metadata": {},
      "outputs": [
        {
          "name": "stdout",
          "output_type": "stream",
          "text": [
            "📄 Notebook摘要已保存到: ./outputs\\notebook_summary_20250621_163800.txt\n",
            "📁 完整结果文件夹: ./outputs\n",
            "\n",
            "📂 生成的文件:\n",
            "  📄 evaluation_results_chart.png\n",
            "  📄 notebook_summary_20250619_004722.txt\n",
            "  📄 notebook_summary_20250621_161353.txt\n",
            "  📄 notebook_summary_20250621_163800.txt\n",
            "  📄 evaluation_results\\detailed_evaluation_20250619_004721.json\n",
            "  📄 evaluation_results\\detailed_evaluation_20250621_163758.json\n",
            "  📄 evaluation_results\\evaluation_chart_20250619_004721.png\n",
            "  📄 evaluation_results\\evaluation_chart_20250621_163758.png\n",
            "  📄 evaluation_results\\evaluation_report_20250619_004721.txt\n",
            "  📄 evaluation_results\\evaluation_report_20250621_161350.txt\n",
            "  📄 evaluation_results\\evaluation_report_20250621_161649.txt\n",
            "  📄 evaluation_results\\evaluation_report_20250621_161852.txt\n",
            "  📄 evaluation_results\\evaluation_report_20250621_163758.txt\n",
            "  📄 generated_titles\\generation_results_20250619_004632.json\n",
            "  📄 generated_titles\\generation_results_20250621_163716.json\n",
            "  📄 generated_titles\\title_comparison_20250619_004632.txt\n",
            "  📄 generated_titles\\title_comparison_20250621_161321.txt\n",
            "  📄 generated_titles\\title_comparison_20250621_163716.txt\n",
            "  📄 processed_data\\data_stats.json\n",
            "  📄 processed_data\\test_samples.json\n",
            "  📄 processed_data\\user_histories.json\n",
            "  📄 processed_data\\user_interests.json\n"
          ]
        }
      ],
      "source": [
        "# 创建项目总结报告\n",
        "if 'generator' in locals() and generator.results['generated_titles']:\n",
        "    timestamp = datetime.now().strftime(\"%Y%m%d_%H%M%S\")\n",
        "    \n",
        "    # 保存notebook运行摘要\n",
        "    summary_path = os.path.join(DATA_PATHS['output_dir'], f'notebook_summary_{timestamp}.txt')\n",
        "    \n",
        "    with open(summary_path, 'w', encoding='utf-8') as f:\n",
        "        f.write(\"基于提示词工程的个性化新闻标题生成 - Notebook运行摘要\\n\")\n",
        "        f.write(\"=\" * 60 + \"\\n\\n\")\n",
        "        \n",
        "        f.write(f\"运行时间: {datetime.now().strftime('%Y-%m-%d %H:%M:%S')}\\n\")\n",
        "        f.write(f\"处理样本数: {len(generator.results['generated_titles'])}\\n\")\n",
        "        \n",
        "        f.write(f\"API请求数: {generator.llm_client.total_requests}\\n\")\n",
        "        f.write(f\"Token使用: {generator.llm_client.total_tokens_used}\\n\")\n",
        "        f.write(f\"API成功率: {((generator.llm_client.total_requests - generator.llm_client.failed_requests) / max(generator.llm_client.total_requests, 1)):.2%}\\n\\n\")\n",
        "        \n",
        "        if hasattr(generator.evaluator, 'evaluation_results'):\n",
        "            eval_results = generator.evaluator.evaluation_results\n",
        "            overall_score = eval_results.get('overall_score', 0)\n",
        "            \n",
        "            # 确保overall_score是数字类型\n",
        "            if isinstance(overall_score, dict):\n",
        "                comprehensive_scores = eval_results.get('comprehensive_scores', {})\n",
        "                overall_score = comprehensive_scores.get('final_comprehensive_score', 0)\n",
        "            \n",
        "            f.write(f\"综合评分: {overall_score:.4f}\\n\")\n",
        "            \n",
        "            rouge_scores = eval_results.get('rouge_scores', {})\n",
        "            if rouge_scores:\n",
        "                f.write(\"\\nROUGE分数:\\n\")\n",
        "                for metric, score in rouge_scores.items():\n",
        "                    if metric.endswith('_f'):\n",
        "                        f.write(f\"  {metric.replace('_f', '').upper()}: {score:.4f}\\n\")\n",
        "        \n",
        "        f.write(\"\\n\" + \"=\" * 60 + \"\\n\")\n",
        "        f.write(\"详细结果请查看对应的输出文件夹\")\n",
        "    \n",
        "    print(f\"📄 Notebook摘要已保存到: {summary_path}\")\n",
        "    print(f\"📁 完整结果文件夹: {DATA_PATHS['output_dir']}\")\n",
        "    \n",
        "    # 列出生成的文件\n",
        "    print(\"\\n📂 生成的文件:\")\n",
        "    for root, dirs, files in os.walk(DATA_PATHS['output_dir']):\n",
        "        for file in files:\n",
        "            file_path = os.path.join(root, file)\n",
        "            rel_path = os.path.relpath(file_path, DATA_PATHS['output_dir'])\n",
        "            print(f\"  📄 {rel_path}\")\n",
        "else:\n",
        "    print(\"⚠️ 没有可导出的结果\")"
      ]
    },
    {
      "cell_type": "raw",
      "metadata": {
        "vscode": {
          "languageId": "raw"
        }
      },
      "source": [
        "## 11. 总结与分析\n",
        "\n",
        "本notebook已完成个性化新闻标题生成的完整流程，包括数据处理、标题生成、综合评估（ROUGE + LLM）等功能。\n"
      ]
    }
  ],
  "metadata": {
    "kernelspec": {
      "display_name": "pens_clean",
      "language": "python",
      "name": "python3"
    },
    "language_info": {
      "codemirror_mode": {
        "name": "ipython",
        "version": 3
      },
      "file_extension": ".py",
      "mimetype": "text/x-python",
      "name": "python",
      "nbconvert_exporter": "python",
      "pygments_lexer": "ipython3",
      "version": "3.11.11"
    }
  },
  "nbformat": 4,
  "nbformat_minor": 4
}
