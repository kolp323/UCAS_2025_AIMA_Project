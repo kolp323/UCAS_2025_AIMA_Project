{
  "cells": [
    {
      "cell_type": "raw",
      "metadata": {
        "vscode": {
          "languageId": "raw"
        }
      },
      "source": [
        "# Personalized News Headline Generation Based on Prompt Engineering\n",
        "\n",
        "This notebook demonstrates how to use large language model APIs for personalized news headline generation as an alternative implementation to the PENS project.\n",
        "\n",
        "## Technical Approach\n",
        "1. **Data Preprocessing**: Extract user history and interest information from PENS data\n",
        "2. **Prompt Engineering**: Design personalized headline generation prompts\n",
        "3. **API Calls**: Call DeepSeek model to generate personalized headlines\n",
        "4. **Effect Evaluation**: Evaluate generation effectiveness using ROUGE and other metrics\n",
        "\n",
        "## Advantages\n",
        "- No need to train models, quick implementation\n",
        "- Leverage strong language understanding capabilities of large models\n",
        "- Flexible prompt design, easy to optimize\n",
        "- Lower computational resource requirements\n"
      ]
    },
    {
      "cell_type": "raw",
      "metadata": {
        "vscode": {
          "languageId": "raw"
        }
      },
      "source": [
        "## 1. Environment Preparation\n"
      ]
    },
    {
      "cell_type": "code",
      "execution_count": 1,
      "metadata": {},
      "outputs": [
        {
          "name": "stdout",
          "output_type": "stream",
          "text": [
            "Environment preparation completed\n",
            "Output directory: ./outputs\n",
            "Model: deepseek-chat-v3-0324\n",
            "Token limit: 50000\n"
          ]
        }
      ],
      "source": [
        "import os\n",
        "import sys\n",
        "import json\n",
        "import pandas as pd\n",
        "import numpy as np\n",
        "from datetime import datetime\n",
        "import matplotlib.pyplot as plt\n",
        "import seaborn as sns\n",
        "from tqdm import tqdm\n",
        "\n",
        "# Set Chinese font\n",
        "plt.rcParams['font.sans-serif'] = ['SimHei', 'DejaVu Sans']\n",
        "plt.rcParams['axes.unicode_minus'] = False\n",
        "\n",
        "# Import custom modules\n",
        "from config import *\n",
        "from data_processor import DataProcessor\n",
        "from llm_client import LLMClient\n",
        "from prompt_generator import PromptGenerator\n",
        "from evaluator import Evaluator\n",
        "from main import PersonalizedTitleGenerator\n",
        "\n",
        "print(\"Environment preparation completed\")\n",
        "print(f\"Output directory: {DATA_PATHS['output_dir']}\")\n",
        "print(f\"Model: {API_CONFIG['model']}\")\n",
        "print(f\"Token limit: {API_CONFIG['max_tokens']}\")\n"
      ]
    },
    {
      "cell_type": "raw",
      "metadata": {
        "vscode": {
          "languageId": "raw"
        }
      },
      "source": [
        "## 2. Data Preprocessing\n",
        "\n",
        "Extract user click sequences and interest labels from original PENS data\n"
      ]
    },
    {
      "cell_type": "code",
      "execution_count": 2,
      "metadata": {},
      "outputs": [
        {
          "name": "stderr",
          "output_type": "stream",
          "text": [
            "2025-06-22 21:20:17,166 - data_processor - INFO - Successfully loaded processed data\n"
          ]
        },
        {
          "name": "stdout",
          "output_type": "stream",
          "text": [
            "Loaded processed data\n",
            "Statistics:\n",
            "  Test samples: 200\n",
            "  Users: 103\n",
            "  Interest categories: 3\n"
          ]
        }
      ],
      "source": [
        "# Initialize data processor\n",
        "processor = DataProcessor()\n",
        "\n",
        "# Check if processed data exists\n",
        "processed_data_exists = processor.load_processed_data()\n",
        "\n",
        "if not processed_data_exists:\n",
        "    print(\"Starting data preprocessing...\")\n",
        "    success = processor.process_all()\n",
        "    \n",
        "    if success:\n",
        "        print(\"Data preprocessing completed\")\n",
        "    else:\n",
        "        print(\"Data preprocessing failed, please check data files\")\n",
        "        sys.exit(1)\n",
        "else:\n",
        "    print(\"Loaded processed data\")\n",
        "\n",
        "print(f\"Statistics:\")\n",
        "print(f\"  Test samples: {len(processor.test_samples)}\")\n",
        "print(f\"  Users: {len(processor.user_histories)}\")\n",
        "print(f\"  Interest categories: {len(set([int['primary_interest'] for int in processor.user_interests.values()]))}\")\n"
      ]
    },
    {
      "cell_type": "raw",
      "metadata": {
        "vscode": {
          "languageId": "raw"
        }
      },
      "source": [
        "## 3. Evaluation and LLM Quality Assessment\n",
        "\n",
        "Use evaluator including personalization evaluation and large model API quality assessment functions.\n"
      ]
    },
    {
      "cell_type": "code",
      "execution_count": 3,
      "metadata": {},
      "outputs": [
        {
          "name": "stderr",
          "output_type": "stream",
          "text": [
            "2025-06-22 21:20:17,207 - llm_client - INFO - Initialize LLM client: deepseek-chat-v3-0324 (chat model)\n",
            "2025-06-22 21:20:17,208 - evaluator - INFO - Using deepseek-chat-v3-0324 for LLM evaluation\n",
            "2025-06-22 21:20:17,209 - absl - INFO - Using default tokenizer.\n",
            "2025-06-22 21:20:17,210 - evaluator - INFO - ROUGE scorer initialized successfully\n"
          ]
        },
        {
          "name": "stdout",
          "output_type": "stream",
          "text": [
            "Evaluator initialization completed\n",
            "LLM evaluation model: deepseek-chat-v3-0324\n",
            "Evaluation functions:\n",
            "  • Multi-dimensional personalization evaluation\n",
            "  • Large model API quality assessment\n",
            "  • Scientific comprehensive scoring system\n"
          ]
        }
      ],
      "source": [
        "# Import evaluator\n",
        "from evaluator import Evaluator\n",
        "\n",
        "# Initialize evaluator (enable LLM evaluation)\n",
        "evaluator_enhanced = Evaluator(use_llm_evaluation=True)\n",
        "\n",
        "print(\"Evaluator initialization completed\")\n",
        "print(f\"LLM evaluation model: {EVALUATION_MODEL}\")\n",
        "print(\"Evaluation functions:\")\n",
        "print(\"  • Multi-dimensional personalization evaluation\")\n",
        "print(\"  • Large model API quality assessment\")\n",
        "print(\"  • Scientific comprehensive scoring system\")\n"
      ]
    },
    {
      "cell_type": "raw",
      "metadata": {
        "vscode": {
          "languageId": "raw"
        }
      },
      "source": [
        "### Evaluation Description\n",
        "\n",
        "Main functions of this evaluation module:\n",
        "\n",
        "**1. Personalization Evaluation**\n",
        "- Interest matching (40% weight): Check how well headlines match user primary interests\n",
        "- Category relevance (20% weight): Evaluate headline relevance to news category\n",
        "- Interest consistency (25% weight): Check consistency between user interests and news category\n",
        "- Historical relevance (15% weight): Consider user historical reading preferences\n",
        "\n",
        "**2. LLM Quality Evaluation**\n",
        "- Accuracy: Whether headlines accurately reflect news content\n",
        "- Attractiveness: Click appeal of headlines\n",
        "- Clarity: How clear and understandable the expression is\n",
        "- Reasonableness: Appropriateness of length and word choice\n",
        "- Innovation: Improvement compared to original headlines\n",
        "\n",
        "**3. Comprehensive Scoring System**\n",
        "- ROUGE score: 25%\n",
        "- Personalization effect: 35%\n",
        "- Title quality: 20%\n",
        "- LLM evaluation: 20%\n"
      ]
    },
    {
      "cell_type": "markdown",
      "metadata": {},
      "source": [
        "## 4. Data Sample Viewing\n",
        "\n",
        "View processed data samples to understand the data structure"
      ]
    },
    {
      "cell_type": "code",
      "execution_count": 4,
      "metadata": {},
      "outputs": [
        {
          "name": "stdout",
          "output_type": "stream",
          "text": [
            "Data sample:\n",
            "Original title: high-stakes legal fight looms over trump pollution rule\n",
            "Reference title: legal battle looms over trump epa's rule change of obama's clean power plan rule\n",
            "News category: news\n",
            "User interests: news\n",
            "User history: [\"nike faces backlash after pulling 'betsy ross flag' sneakers\", \"costco is selling a giant donut covered in pink icing, sprinkles and m&m's\", 'top stock reports for berkshire hathaway, salesforce & danaher']...\n",
            "News content: democratic state attorney generals and environmental groups are gearing up for what is expected to b...\n"
          ]
        }
      ],
      "source": [
        "# View data sample\n",
        "sample = processor.test_samples[0]\n",
        "print(\"Data sample:\")\n",
        "print(f\"Original title: {sample['original_title']}\")\n",
        "print(f\"Reference title: {sample['reference_title']}\")\n",
        "print(f\"News category: {sample['category']}\")\n",
        "print(f\"User interests: {sample['user_interests']['primary_interest']}\")\n",
        "print(f\"User history: {sample['user_history'][:3]}...\")\n",
        "print(f\"News content: {sample['news_body'][:100]}...\")"
      ]
    },
    {
      "cell_type": "markdown",
      "metadata": {},
      "source": [
        "## 5. Prompt Design and Testing\n",
        "\n",
        "Design and test different styles of personalized headline generation prompts"
      ]
    },
    {
      "cell_type": "code",
      "execution_count": 5,
      "metadata": {},
      "outputs": [
        {
          "name": "stderr",
          "output_type": "stream",
          "text": [
            "2025-06-22 21:20:17,232 - prompt_generator - INFO - Initialize prompt generator: deepseek-chat-v3-0324 (chat model)\n",
            "2025-06-22 21:20:17,232 - prompt_generator - INFO - Initialize prompt generator: deepseek-chat-v3-0324 (chat model)\n"
          ]
        },
        {
          "name": "stdout",
          "output_type": "stream",
          "text": [
            "Prompt style testing:\n",
            "\n",
            "Available styles: ['focused', 'enhanced', 'creative']\n",
            "Current model: deepseek-chat-v3-0324 (chat model)\n",
            "\n",
            "=== FOCUSED Style ===\n",
            "System prompt length: 253 characters\n",
            "User prompt length: 1462 characters\n",
            "Estimated total tokens: 2572\n",
            "System prompt preview: Create a personalized English news headline based on the user's interests and browsing history.\n",
            "\n",
            "Req...\n",
            "User prompt preview: Create a personalized headline for this user:\n",
            "\n",
            "Interests: Primary interest: news, Related categories: news, video, finance\n",
            "Recent reads: - nike faces ...\n",
            "\n",
            "=== ENHANCED Style ===\n",
            "System prompt length: 253 characters\n",
            "User prompt length: 1440 characters\n",
            "Estimated total tokens: 2540\n",
            "System prompt preview: Create a personalized English news headline based on the user's interests and browsing history.\n",
            "\n",
            "Req...\n",
            "User prompt preview: User profile:\n",
            "- Interests: Primary interest: news, Related categories: news, video, finance  \n",
            "- Recent articles: - nike faces backlash after pulling '...\n",
            "\n",
            "=== CREATIVE Style ===\n",
            "System prompt length: 253 characters\n",
            "User prompt length: 1442 characters\n",
            "Estimated total tokens: 2542\n",
            "System prompt preview: Create a personalized English news headline based on the user's interests and browsing history.\n",
            "\n",
            "Req...\n",
            "User prompt preview: Personalize this headline for a user interested in: Primary interest: news, Related categories: news, video, finance\n",
            "\n",
            "Their recent reads: - nike faces...\n",
            "\n"
          ]
        }
      ],
      "source": [
        "# Initialize prompt generator\n",
        "prompt_gen = PromptGenerator()\n",
        "\n",
        "# Test different styles of prompts\n",
        "test_sample = processor.test_samples[0]\n",
        "\n",
        "print(\"Prompt style testing:\\n\")\n",
        "print(f\"Available styles: {prompt_gen.get_available_styles()}\")\n",
        "print(f\"Current model: {prompt_gen.current_model} ({'reasoning model' if prompt_gen.is_reasoning_model else 'chat model'})\")\n",
        "print()\n",
        "\n",
        "for style in ['focused', 'enhanced', 'creative']:\n",
        "    print(f\"=== {style.upper()} Style ===\")\n",
        "    \n",
        "    try:\n",
        "        # Generate prompts - using new interface\n",
        "        system_prompt, user_prompt = prompt_gen.generate_single_prompt(test_sample, style)\n",
        "        \n",
        "        print(f\"System prompt length: {len(system_prompt)} characters\")\n",
        "        print(f\"User prompt length: {len(user_prompt)} characters\")\n",
        "        print(f\"Estimated total tokens: {(len(system_prompt) + len(user_prompt)) * 1.5:.0f}\")\n",
        "        print(f\"System prompt preview: {system_prompt[:100]}...\")\n",
        "        print(f\"User prompt preview: {user_prompt[:150]}...\\n\")\n",
        "        \n",
        "    except Exception as e:\n",
        "        print(f\"Style {style} test failed: {e}\\n\")"
      ]
    },
    {
      "cell_type": "code",
      "execution_count": 6,
      "metadata": {},
      "outputs": [
        {
          "name": "stdout",
          "output_type": "stream",
          "text": [
            "Prompt adaptability testing:\n",
            "\n",
            "=== NEWS Category ===\n",
            "News headline: high-stakes legal fight looms over trump pollution...\n",
            "User interests: news\n",
            "System prompt length: 253 characters\n",
            "User prompt length: 1440 characters\n",
            "Estimated tokens: 2540\n",
            "\n",
            "=== SPORTS Category ===\n",
            "News headline: justin verlander got 'chewed out' by mlb before al...\n",
            "User interests: news\n",
            "System prompt length: 253 characters\n",
            "User prompt length: 1446 characters\n",
            "Estimated tokens: 2548\n",
            "\n",
            "=== ENTERTAINMENT Category ===\n",
            "News headline: best xbox one games for kids in 2019...\n",
            "User interests: news\n",
            "System prompt length: 253 characters\n",
            "User prompt length: 1421 characters\n",
            "Estimated tokens: 2511\n",
            "\n"
          ]
        }
      ],
      "source": [
        "# Test prompt adaptability for different types of news\n",
        "print(\"Prompt adaptability testing:\\n\")\n",
        "\n",
        "# Test news samples of different categories\n",
        "categories = ['news', 'sports', 'entertainment'] if len(processor.test_samples) > 3 else ['news']\n",
        "for category in categories:\n",
        "    # Find samples of this category\n",
        "    category_samples = [s for s in processor.test_samples if s.get('category') == category]\n",
        "    if category_samples:\n",
        "        sample = category_samples[0]\n",
        "        print(f\"=== {category.upper()} Category ===\")\n",
        "        \n",
        "        # Generate prompts for this sample\n",
        "        system_prompt, user_prompt = prompt_gen.generate_single_prompt(sample, 'enhanced')\n",
        "        \n",
        "        print(f\"News headline: {sample['original_title'][:50]}...\")\n",
        "        print(f\"User interests: {sample['user_interests']['primary_interest']}\")\n",
        "        print(f\"System prompt length: {len(system_prompt)} characters\")\n",
        "        print(f\"User prompt length: {len(user_prompt)} characters\")\n",
        "        print(f\"Estimated tokens: {(len(system_prompt) + len(user_prompt)) * 1.5:.0f}\")\n",
        "        print()"
      ]
    },
    {
      "cell_type": "markdown",
      "metadata": {},
      "source": [
        "## 6. API Call Testing\n",
        "\n",
        "Test LLM API connection and basic functionality"
      ]
    },
    {
      "cell_type": "code",
      "execution_count": 7,
      "metadata": {},
      "outputs": [
        {
          "name": "stderr",
          "output_type": "stream",
          "text": [
            "2025-06-22 21:20:17,271 - llm_client - INFO - Initialize LLM client: deepseek-chat-v3-0324 (chat model)\n",
            "2025-06-22 21:20:17,272 - llm_client - INFO - Sending API request (attempt 1/3)\n"
          ]
        },
        {
          "name": "stdout",
          "output_type": "stream",
          "text": [
            "API configuration:\n",
            "  Base URL: https://api.chavapa.com/v1\n",
            "  Model: deepseek-chat-v3-0324\n",
            "  Max Tokens: 50000\n",
            "\n",
            "API connection testing...\n"
          ]
        },
        {
          "name": "stderr",
          "output_type": "stream",
          "text": [
            "2025-06-22 21:20:25,904 - httpx - INFO - HTTP Request: POST https://api.chavapa.com/v1/chat/completions \"HTTP/1.1 200 OK\"\n",
            "2025-06-22 21:20:25,908 - llm_client - INFO - Get content from content field (chat model): \"Revolutionary AI Breakthrough: Tech Giant Unveils Game-Changing Image Recognition Technology!\" \"Seeing the Future: New AI Product Achieves Unprecedented Image Recognition Accuracy!\" \"Next-Gen AI Unveiled: Company's Latest Innovation Redefines Image Recognition!\" Would you like a more specific tone (e.g., bold, futuristic, or business-focused)?\n",
            "2025-06-22 21:20:25,909 - llm_client - INFO - This request used 131 tokens, total 131 tokens\n"
          ]
        },
        {
          "name": "stdout",
          "output_type": "stream",
          "text": [
            "API connection successful\n",
            "Test response: \"Revolutionary AI Breakthrough: Tech Giant Unveils Game-Changing Image Recognition Technology!\" \"Seeing the Future: New AI Product Achieves Unprecedented Image Recognition Accuracy!\" \"Next-Gen AI Unveiled: Company's Latest Innovation Redefines Image Recognition!\" Would you like a more specific tone (e.g., bold, futuristic, or business-focused)?\n",
            "\n",
            "Usage statistics:\n",
            "  Requests: 1\n",
            "  Success rate: 100.00%\n",
            "  Tokens used: 131\n",
            "  Remaining tokens: 49869\n"
          ]
        }
      ],
      "source": [
        "# Initialize LLM client\n",
        "llm_client = LLMClient()\n",
        "\n",
        "print(f\"API configuration:\")\n",
        "print(f\"  Base URL: {API_CONFIG['base_url']}\")\n",
        "print(f\"  Model: {API_CONFIG['model']}\")\n",
        "print(f\"  Max Tokens: {API_CONFIG['max_tokens']}\")\n",
        "\n",
        "# Test basic API call\n",
        "test_messages = [\n",
        "    {\"role\": \"system\", \"content\": \"You are a news headline generation expert.\"},\n",
        "    {\"role\": \"user\", \"content\": \"Please generate an attractive headline for the following news: A technology company released a new artificial intelligence product with major breakthroughs in image recognition.\"}\n",
        "]\n",
        "\n",
        "print(\"\\nAPI connection testing...\")\n",
        "response = llm_client.chat_completion(test_messages)\n",
        "\n",
        "if response:\n",
        "    print(f\"API connection successful\")\n",
        "    print(f\"Test response: {response}\")\n",
        "    \n",
        "    # Display usage statistics\n",
        "    stats = {'total_requests': llm_client.total_requests, 'success_rate': ((llm_client.total_requests - llm_client.failed_requests) / max(llm_client.total_requests, 1)), 'total_tokens_used': llm_client.total_tokens_used, 'remaining_tokens': 50000 - llm_client.total_tokens_used}\n",
        "    print(f\"\\nUsage statistics:\")\n",
        "    print(f\"  Requests: {stats['total_requests']}\")\n",
        "    print(f\"  Success rate: {stats['success_rate']:.2%}\")\n",
        "    print(f\"  Tokens used: {stats['total_tokens_used']}\")\n",
        "    print(f\"  Remaining tokens: {stats['remaining_tokens']}\")\n",
        "else:\n",
        "    print(\"API connection failed, please check configuration\")"
      ]
    },
    {
      "cell_type": "markdown",
      "metadata": {},
      "source": [
        "## 7. Personalized Headline Generation\n",
        "\n",
        "Generate personalized news headlines using different strategies"
      ]
    },
    {
      "cell_type": "code",
      "execution_count": 8,
      "metadata": {},
      "outputs": [
        {
          "name": "stderr",
          "output_type": "stream",
          "text": [
            "2025-06-22 21:20:25,917 - llm_client - INFO - Sending API request (attempt 1/3)\n"
          ]
        },
        {
          "name": "stdout",
          "output_type": "stream",
          "text": [
            "Personalized headline generation test\n",
            "\n",
            "Original title: high-stakes legal fight looms over trump pollution rule\n",
            "Reference title: legal battle looms over trump epa's rule change of obama's clean power plan rule\n",
            "User interests: news\n",
            "\n",
            "Generating personalized headline...\n"
          ]
        },
        {
          "name": "stderr",
          "output_type": "stream",
          "text": [
            "2025-06-22 21:20:27,835 - httpx - INFO - HTTP Request: POST https://api.chavapa.com/v1/chat/completions \"HTTP/1.1 200 OK\"\n",
            "2025-06-22 21:20:27,837 - llm_client - INFO - Get content from content field (chat model): Trump's Pollution Rule Rollback Sparks Major Legal Battle with Democrats\n",
            "2025-06-22 21:20:27,838 - llm_client - INFO - This request used 398 tokens, total 529 tokens\n"
          ]
        },
        {
          "name": "stdout",
          "output_type": "stream",
          "text": [
            "Generation successful\n",
            "Generated title: Trump's Pollution Rule Rollback Sparks Major Legal Battle with Democrats\n",
            "Word count: 10 words\n"
          ]
        }
      ],
      "source": [
        "# Single sample generation test\n",
        "print(\"Personalized headline generation test\\n\")\n",
        "\n",
        "test_sample = processor.test_samples[0]\n",
        "\n",
        "# Generate personalized headline\n",
        "system_prompt, user_prompt = prompt_gen.generate_single_prompt(test_sample, 'creative')\n",
        "\n",
        "print(f\"Original title: {test_sample['original_title']}\")\n",
        "print(f\"Reference title: {test_sample['reference_title']}\")\n",
        "print(f\"User interests: {test_sample['user_interests']['primary_interest']}\")\n",
        "\n",
        "print(\"\\nGenerating personalized headline...\")\n",
        "response = llm_client.generate_personalized_title(test_sample, system_prompt, user_prompt)\n",
        "\n",
        "if response:\n",
        "    print(f\"Generation successful\")\n",
        "    print(f\"Generated title: {response}\")\n",
        "    print(f\"Word count: {len(response.split())} words\")\n",
        "else:\n",
        "    print(\"Generation failed\")"
      ]
    },
    {
      "cell_type": "code",
      "execution_count": 9,
      "metadata": {},
      "outputs": [
        {
          "name": "stderr",
          "output_type": "stream",
          "text": [
            "2025-06-22 21:20:27,846 - llm_client - INFO - Sending API request (attempt 1/3)\n"
          ]
        },
        {
          "name": "stdout",
          "output_type": "stream",
          "text": [
            "Batch generation test\n",
            "\n",
            "Batch prompt length: 1267 characters\n",
            "Estimated tokens: 1900\n",
            "\n",
            "Generating batch headlines...\n"
          ]
        },
        {
          "name": "stderr",
          "output_type": "stream",
          "text": [
            "2025-06-22 21:20:30,573 - httpx - INFO - HTTP Request: POST https://api.chavapa.com/v1/chat/completions \"HTTP/1.1 200 OK\"\n",
            "2025-06-22 21:20:30,574 - llm_client - INFO - Get content from content field (chat model): News 1: \"Legal showdown brews as states challenge Trump's environmental rollback\" News 2: \"This design flaw instantly makes your home look outdated, experts warn\" News 3: \"MLB reprimands Verlander after All-Star Game ball-tampering accusations\"\n",
            "2025-06-22 21:20:30,574 - llm_client - INFO - This request used 404 tokens, total 933 tokens\n",
            "2025-06-22 21:20:30,575 - llm_client - INFO - Batch parsing: expected 3, successfully parsed 3\n",
            "2025-06-22 21:20:30,577 - llm_client - INFO -   Batch title 1: Legal showdown brews as states challenge Trump's environmental rollback\n",
            "2025-06-22 21:20:30,577 - llm_client - INFO -   Batch title 2: This design flaw instantly makes your home look outdated, experts warn\n",
            "2025-06-22 21:20:30,577 - llm_client - INFO -   Batch title 3: MLB reprimands Verlander after All-Star Game ball-tampering accusations\n"
          ]
        },
        {
          "name": "stdout",
          "output_type": "stream",
          "text": [
            "\n",
            "Batch generation results:\n",
            "\n",
            "Sample 1:\n",
            "  Original: high-stakes legal fight looms over trump pollution rule\n",
            "  Generated: Legal showdown brews as states challenge Trump's environmental rollback\n",
            "  User interests: news\n",
            "\n",
            "Sample 2:\n",
            "  Original: the one thing that immediately makes your house look dated\n",
            "  Generated: This design flaw instantly makes your home look outdated, experts warn\n",
            "  User interests: news\n",
            "\n",
            "Sample 3:\n",
            "  Original: justin verlander got 'chewed out' by mlb before all-star game\n",
            "  Generated: MLB reprimands Verlander after All-Star Game ball-tampering accusations\n",
            "  User interests: news\n"
          ]
        }
      ],
      "source": [
        "# Batch generation test (small batch)\n",
        "print(\"Batch generation test\\n\")\n",
        "\n",
        "test_samples = processor.test_samples[:3]  # Test 3 samples\n",
        "\n",
        "system_prompt, batch_prompt = prompt_gen.generate_batch_prompt(test_samples)\n",
        "print(f\"Batch prompt length: {len(batch_prompt)} characters\")\n",
        "print(f\"Estimated tokens: {len(batch_prompt) * 1.5:.0f}\")\n",
        "\n",
        "print(\"\\nGenerating batch headlines...\")\n",
        "batch_results = llm_client.generate_batch_titles(\n",
        "    test_samples,\n",
        "    system_prompt,\n",
        "    batch_prompt\n",
        ")\n",
        "\n",
        "print(\"\\nBatch generation results:\")\n",
        "for i, (sample, generated) in enumerate(zip(test_samples, batch_results)):\n",
        "    print(f\"\\nSample {i+1}:\")\n",
        "    print(f\"  Original: {sample['original_title']}\")\n",
        "    print(f\"  Generated: {generated or 'Generation failed'}\")\n",
        "    print(f\"  User interests: {sample['user_interests']['primary_interest']}\")"
      ]
    },
    {
      "cell_type": "markdown",
      "metadata": {},
      "source": [
        "## 8. Complete Generation Process\n",
        "\n",
        "Run the complete personalized headline generation process"
      ]
    },
    {
      "cell_type": "code",
      "execution_count": 10,
      "metadata": {},
      "outputs": [
        {
          "name": "stderr",
          "output_type": "stream",
          "text": [
            "2025-06-22 21:20:30,606 - llm_client - INFO - Initialize LLM client: deepseek-chat-v3-0324 (chat model)\n",
            "2025-06-22 21:20:30,607 - prompt_generator - INFO - Initialize prompt generator: deepseek-chat-v3-0324 (chat model)\n",
            "2025-06-22 21:20:30,607 - prompt_generator - INFO - Initialize prompt generator: deepseek-chat-v3-0324 (chat model)\n",
            "2025-06-22 21:20:30,629 - llm_client - INFO - Initialize LLM client: deepseek-chat-v3-0324 (chat model)\n",
            "2025-06-22 21:20:30,630 - evaluator - INFO - Using deepseek-chat-v3-0324 for LLM evaluation\n",
            "2025-06-22 21:20:30,630 - absl - INFO - Using default tokenizer.\n",
            "2025-06-22 21:20:30,630 - evaluator - INFO - ROUGE scorer initialized successfully\n",
            "2025-06-22 21:20:30,633 - main - INFO - ============================================================\n",
            "2025-06-22 21:20:30,633 - main - INFO - Starting personalized news headline generation\n",
            "2025-06-22 21:20:30,633 - main - INFO - ============================================================\n",
            "2025-06-22 21:20:30,634 - main - INFO - Step 1: Data preparation\n",
            "2025-06-22 21:20:30,634 - main - INFO - Detected processed data, loading directly...\n",
            "2025-06-22 21:20:30,638 - data_processor - INFO - Successfully loaded processed data\n",
            "2025-06-22 21:20:30,639 - main - INFO - Limited processing sample count to: 20\n",
            "2025-06-22 21:20:30,639 - main - INFO - Step 2: Title generation (mode: single)\n",
            "2025-06-22 21:20:30,639 - main - INFO - Starting single generation mode, processing samples 0 to 20\n"
          ]
        },
        {
          "name": "stdout",
          "output_type": "stream",
          "text": [
            "Starting complete generation process\n",
            "Configuration: {'mode': 'single', 'max_samples': 20, 'force_reprocess': False}\n"
          ]
        },
        {
          "name": "stderr",
          "output_type": "stream",
          "text": [
            "Generating titles:   0%|          | 0/20 [00:00<?, ?it/s]2025-06-22 21:20:30,642 - llm_client - INFO - Sending API request (attempt 1/3)\n",
            "2025-06-22 21:20:39,410 - httpx - INFO - HTTP Request: POST https://api.chavapa.com/v1/chat/completions \"HTTP/1.1 200 OK\"\n",
            "2025-06-22 21:20:39,410 - llm_client - INFO - Get content from content field (chat model): High-Stakes Legal Battle Erupts Over Trump's Rollback of Obama-Era Pollution Rules\n",
            "2025-06-22 21:20:39,411 - llm_client - INFO - This request used 407 tokens, total 407 tokens\n",
            "Generating titles:   5%|▌         | 1/20 [00:08<02:46,  8.77s/it]2025-06-22 21:20:39,412 - llm_client - INFO - Sending API request (attempt 1/3)\n",
            "2025-06-22 21:20:44,627 - httpx - INFO - HTTP Request: POST https://api.chavapa.com/v1/chat/completions \"HTTP/1.1 200 OK\"\n",
            "2025-06-22 21:20:44,628 - llm_client - INFO - Get content from content field (chat model): Retro Homes: The One Design Trend That Instantly Dates Your House\n",
            "2025-06-22 21:20:44,628 - llm_client - INFO - This request used 408 tokens, total 815 tokens\n",
            "Generating titles:  10%|█         | 2/20 [00:13<02:00,  6.68s/it]2025-06-22 21:20:44,629 - llm_client - INFO - Sending API request (attempt 1/3)\n",
            "2025-06-22 21:20:47,394 - httpx - INFO - HTTP Request: POST https://api.chavapa.com/v1/chat/completions \"HTTP/1.1 200 OK\"\n",
            "2025-06-22 21:20:47,395 - llm_client - INFO - Get content from content field (chat model): Verlander Scolded by MLB Over Ball-Tampering Claims Ahead of All-Star Game\n",
            "2025-06-22 21:20:47,395 - llm_client - INFO - This request used 421 tokens, total 1236 tokens\n",
            "Generating titles:  15%|█▌        | 3/20 [00:16<01:23,  4.89s/it]2025-06-22 21:20:47,396 - llm_client - INFO - Sending API request (attempt 1/3)\n",
            "2025-06-22 21:20:50,103 - httpx - INFO - HTTP Request: POST https://api.chavapa.com/v1/chat/completions \"HTTP/1.1 200 OK\"\n",
            "2025-06-22 21:20:50,103 - llm_client - INFO - Get content from content field (chat model): O.J. Simpson Joins Twitter, Vows to 'Get Even' in Controversial Comeback\n",
            "2025-06-22 21:20:50,105 - llm_client - INFO - This request used 433 tokens, total 1669 tokens\n",
            "Generating titles:  20%|██        | 4/20 [00:19<01:04,  4.03s/it]2025-06-22 21:20:50,106 - llm_client - INFO - Sending API request (attempt 1/3)\n",
            "2025-06-22 21:20:52,536 - httpx - INFO - HTTP Request: POST https://api.chavapa.com/v1/chat/completions \"HTTP/1.1 200 OK\"\n",
            "2025-06-22 21:20:52,922 - llm_client - INFO - Get content from content field (chat model): Year-Old Coco Gauff Stuns Venus Williams in Historic Wimbledon Upset\n",
            "2025-06-22 21:20:52,922 - llm_client - INFO - This request used 443 tokens, total 2112 tokens\n",
            "Generating titles:  25%|██▌       | 5/20 [00:22<00:53,  3.59s/it]2025-06-22 21:20:52,923 - llm_client - INFO - Sending API request (attempt 1/3)\n",
            "2025-06-22 21:20:54,682 - httpx - INFO - HTTP Request: POST https://api.chavapa.com/v1/chat/completions \"HTTP/1.1 200 OK\"\n",
            "2025-06-22 21:20:54,684 - llm_client - INFO - Get content from content field (chat model): U.S. Literacy Rankings Revealed Ahead of International Literacy Day\n",
            "2025-06-22 21:20:54,684 - llm_client - INFO - This request used 390 tokens, total 2502 tokens\n",
            "Generating titles:  30%|███       | 6/20 [00:24<00:41,  2.97s/it]2025-06-22 21:20:54,684 - llm_client - INFO - Sending API request (attempt 1/3)\n",
            "2025-06-22 21:20:57,665 - httpx - INFO - HTTP Request: POST https://api.chavapa.com/v1/chat/completions \"HTTP/1.1 200 OK\"\n",
            "2025-06-22 21:20:57,666 - llm_client - INFO - Get content from content field (chat model): Eagles' Offseason Moves: Wentz Assessment, Front Office Shakeup & CB Depth Chart Analysis\n",
            "2025-06-22 21:20:57,666 - llm_client - INFO - This request used 433 tokens, total 2935 tokens\n",
            "Generating titles:  35%|███▌      | 7/20 [00:27<00:38,  2.97s/it]2025-06-22 21:20:57,667 - llm_client - INFO - Sending API request (attempt 1/3)\n",
            "2025-06-22 21:21:00,088 - httpx - INFO - HTTP Request: POST https://api.chavapa.com/v1/chat/completions \"HTTP/1.1 200 OK\"\n",
            "2025-06-22 21:21:00,089 - llm_client - INFO - Get content from content field (chat model): Smart Money Moves for Retirees: Boost Your Fixed Income Now\n",
            "2025-06-22 21:21:00,090 - llm_client - INFO - This request used 407 tokens, total 3342 tokens\n",
            "Generating titles:  40%|████      | 8/20 [00:29<00:33,  2.80s/it]2025-06-22 21:21:00,091 - llm_client - INFO - Sending API request (attempt 1/3)\n",
            "2025-06-22 21:21:02,122 - httpx - INFO - HTTP Request: POST https://api.chavapa.com/v1/chat/completions \"HTTP/1.1 200 OK\"\n",
            "2025-06-22 21:21:02,123 - llm_client - INFO - Get content from content field (chat model): Universal Orlando: Analyzing the Value of Express Pass for Peak Summer Crowds\n",
            "2025-06-22 21:21:02,124 - llm_client - INFO - This request used 411 tokens, total 3753 tokens\n",
            "Generating titles:  45%|████▌     | 9/20 [00:31<00:28,  2.56s/it]2025-06-22 21:21:02,125 - llm_client - INFO - Sending API request (attempt 1/3)\n",
            "2025-06-22 21:21:04,644 - httpx - INFO - HTTP Request: POST https://api.chavapa.com/v1/chat/completions \"HTTP/1.1 200 OK\"\n",
            "2025-06-22 21:21:04,644 - llm_client - INFO - Get content from content field (chat model): Veteran CBS 6 Anchor Angie Miles Bids Farewell After Stellar Career\n",
            "2025-06-22 21:21:04,646 - llm_client - INFO - This request used 438 tokens, total 4191 tokens\n",
            "Generating titles:  50%|█████     | 10/20 [00:34<00:25,  2.55s/it]2025-06-22 21:21:04,647 - llm_client - INFO - Sending API request (attempt 1/3)\n",
            "2025-06-22 21:21:06,630 - httpx - INFO - HTTP Request: POST https://api.chavapa.com/v1/chat/completions \"HTTP/1.1 200 OK\"\n",
            "2025-06-22 21:21:06,632 - llm_client - INFO - Get content from content field (chat model): Apple Design Legend Jony Ive Departs: A Look at His 27-Year Legacy and Lavish Lifestyle\n",
            "2025-06-22 21:21:06,632 - llm_client - INFO - This request used 443 tokens, total 4634 tokens\n",
            "Generating titles:  55%|█████▌    | 11/20 [00:35<00:21,  2.38s/it]2025-06-22 21:21:06,634 - llm_client - INFO - Sending API request (attempt 1/3)\n",
            "2025-06-22 21:21:09,100 - httpx - INFO - HTTP Request: POST https://api.chavapa.com/v1/chat/completions \"HTTP/1.1 200 OK\"\n",
            "2025-06-22 21:21:09,102 - llm_client - INFO - Get content from content field (chat model): Shady Ship Tactics Exposed: How Traders Dodge U.S. Sanctions on Iran & Venezuela\n",
            "2025-06-22 21:21:09,102 - llm_client - INFO - This request used 416 tokens, total 5050 tokens\n",
            "Generating titles:  60%|██████    | 12/20 [00:38<00:19,  2.41s/it]2025-06-22 21:21:09,104 - llm_client - INFO - Sending API request (attempt 1/3)\n",
            "2025-06-22 21:21:17,626 - httpx - INFO - HTTP Request: POST https://api.chavapa.com/v1/chat/completions \"HTTP/1.1 200 OK\"\n",
            "2025-06-22 21:21:17,628 - llm_client - INFO - Get content from content field (chat model): West Baltimore Poe Homes Residents Face 5th Day Without Water Amid Repair Delays\n",
            "2025-06-22 21:21:17,628 - llm_client - INFO - This request used 419 tokens, total 5469 tokens\n",
            "Generating titles:  65%|██████▌   | 13/20 [00:46<00:29,  4.26s/it]2025-06-22 21:21:17,629 - llm_client - INFO - Sending API request (attempt 1/3)\n",
            "2025-06-22 21:21:20,586 - httpx - INFO - HTTP Request: POST https://api.chavapa.com/v1/chat/completions \"HTTP/1.1 200 OK\"\n",
            "2025-06-22 21:21:20,587 - llm_client - INFO - Get content from content field (chat model): Years After Apollo 11, NASA’s Rocket Launches Still Captivate Finance and Tech Enthusiasts\n",
            "2025-06-22 21:21:20,588 - llm_client - INFO - This request used 437 tokens, total 5906 tokens\n",
            "Generating titles:  70%|███████   | 14/20 [00:49<00:23,  3.87s/it]2025-06-22 21:21:20,589 - llm_client - INFO - Sending API request (attempt 1/3)\n",
            "2025-06-22 21:21:26,106 - httpx - INFO - HTTP Request: POST https://api.chavapa.com/v1/chat/completions \"HTTP/1.1 200 OK\"\n",
            "2025-06-22 21:21:26,107 - llm_client - INFO - Get content from content field (chat model): New York Liberty’s Resurgence: Young Talent Sparks Turnaround After 17-Game Slump\n",
            "2025-06-22 21:21:26,107 - llm_client - INFO - This request used 436 tokens, total 6342 tokens\n",
            "Generating titles:  75%|███████▌  | 15/20 [00:55<00:21,  4.36s/it]2025-06-22 21:21:26,108 - llm_client - INFO - Sending API request (attempt 1/3)\n",
            "2025-06-22 21:21:32,312 - httpx - INFO - HTTP Request: POST https://api.chavapa.com/v1/chat/completions \"HTTP/1.1 200 OK\"\n",
            "2025-06-22 21:21:32,314 - llm_client - INFO - Get content from content field (chat model): Loggers and Environmentalists Unite Against Wildfires in Surprising Darrington Alliance\n",
            "2025-06-22 21:21:32,314 - llm_client - INFO - This request used 417 tokens, total 6759 tokens\n",
            "Generating titles:  80%|████████  | 16/20 [01:01<00:19,  4.92s/it]2025-06-22 21:21:32,316 - llm_client - INFO - Sending API request (attempt 1/3)\n",
            "2025-06-22 21:21:36,931 - httpx - INFO - HTTP Request: POST https://api.chavapa.com/v1/chat/completions \"HTTP/1.1 200 OK\"\n",
            "2025-06-22 21:21:36,932 - llm_client - INFO - Get content from content field (chat model): NFL Star Russell Wilson Stuns Mom With Dream House for Mother’s Day\n",
            "2025-06-22 21:21:36,932 - llm_client - INFO - This request used 424 tokens, total 7183 tokens\n",
            "Generating titles:  85%|████████▌ | 17/20 [01:06<00:14,  4.83s/it]2025-06-22 21:21:36,933 - llm_client - INFO - Sending API request (attempt 1/3)\n",
            "2025-06-22 21:21:39,511 - httpx - INFO - HTTP Request: POST https://api.chavapa.com/v1/chat/completions \"HTTP/1.1 200 OK\"\n",
            "2025-06-22 21:21:39,512 - llm_client - INFO - Get content from content field (chat model): Kentucky Missing Kids Case Seeks Class Action Status Amid Ongoing Investigations\n",
            "2025-06-22 21:21:39,512 - llm_client - INFO - This request used 432 tokens, total 7615 tokens\n",
            "Generating titles:  90%|█████████ | 18/20 [01:08<00:08,  4.15s/it]2025-06-22 21:21:39,513 - llm_client - INFO - Sending API request (attempt 1/3)\n",
            "2025-06-22 21:21:41,098 - httpx - INFO - HTTP Request: POST https://api.chavapa.com/v1/chat/completions \"HTTP/1.1 200 OK\"\n",
            "2025-06-22 21:21:41,099 - llm_client - INFO - Get content from content field (chat model): Trump Unveils Middle East Peace Plan, Focuses on Economic Revival First\n",
            "2025-06-22 21:21:41,100 - llm_client - INFO - This request used 404 tokens, total 8019 tokens\n",
            "Generating titles:  95%|█████████▌| 19/20 [01:10<00:03,  3.38s/it]2025-06-22 21:21:41,102 - llm_client - INFO - Sending API request (attempt 1/3)\n",
            "2025-06-22 21:21:48,531 - httpx - INFO - HTTP Request: POST https://api.chavapa.com/v1/chat/completions \"HTTP/1.1 200 OK\"\n",
            "2025-06-22 21:21:48,533 - llm_client - INFO - Get content from content field (chat model): Carolina Hurricanes Secure Rising Star Nedeljkovic on Two-Year Deal\n",
            "2025-06-22 21:21:48,533 - llm_client - INFO - This request used 442 tokens, total 8461 tokens\n",
            "Generating titles: 100%|██████████| 20/20 [01:17<00:00,  3.89s/it]\n",
            "2025-06-22 21:21:48,535 - main - INFO - Step 3: Organize results\n",
            "2025-06-22 21:21:48,538 - main - INFO - Generation results saved to: ./outputs/generated_titles\\generation_results_20250622_212148.json\n",
            "2025-06-22 21:21:48,539 - main - INFO - Title comparison file saved to: ./outputs/generated_titles\\title_comparison_20250622_212148.txt\n",
            "2025-06-22 21:21:48,539 - main - INFO - API usage statistics:\n",
            "2025-06-22 21:21:48,539 - main - INFO -   Total requests: 20\n",
            "2025-06-22 21:21:48,540 - main - INFO -   Failed requests: 0\n",
            "2025-06-22 21:21:48,540 - main - INFO -   Success rate: 100.00%\n",
            "2025-06-22 21:21:48,541 - main - INFO -   Total tokens used: 8461\n",
            "2025-06-22 21:21:48,541 - main - INFO -   Remaining tokens: 41539\n",
            "2025-06-22 21:21:48,541 - main - INFO - Title generation completed, generated 20 titles\n"
          ]
        },
        {
          "name": "stdout",
          "output_type": "stream",
          "text": [
            "\n",
            "Generation completed\n",
            "\n",
            "API usage statistics:\n",
            "  Total requests: 20\n",
            "  Success rate: 100.00%\n",
            "  Tokens used: 8461\n",
            "  Remaining tokens: 41539\n",
            "\n",
            "Generation results overview:\n",
            "  Successfully generated: 20\n",
            "  Total samples: 20\n",
            "  Success rate: 100.00%\n"
          ]
        }
      ],
      "source": [
        "# Create main generator\n",
        "generator = PersonalizedTitleGenerator()\n",
        "\n",
        "# Configure generation parameters\n",
        "generation_config = {\n",
        "    'mode': 'single',  # or 'batch'\n",
        "    'max_samples': 20,  # Limit sample count to save API calls\n",
        "    'force_reprocess': False\n",
        "}\n",
        "\n",
        "print(f\"Starting complete generation process\")\n",
        "print(f\"Configuration: {generation_config}\")\n",
        "\n",
        "# Run generation\n",
        "success = generator.run_generation(**generation_config)\n",
        "\n",
        "if success:\n",
        "    print(\"\\nGeneration completed\")\n",
        "    \n",
        "    # Display API usage statistics\n",
        "    print(f\"\\nAPI usage statistics:\")\n",
        "    print(f\"  Total requests: {generator.llm_client.total_requests}\")\n",
        "    print(f\"  Success rate: {((generator.llm_client.total_requests - generator.llm_client.failed_requests) / max(generator.llm_client.total_requests, 1)):.2%}\")\n",
        "    print(f\"  Tokens used: {generator.llm_client.total_tokens_used}\")\n",
        "    print(f\"  Remaining tokens: {50000 - generator.llm_client.total_tokens_used}\")\n",
        "    \n",
        "    # Display generation results overview\n",
        "    results = generator.results\n",
        "    print(f\"\\nGeneration results overview:\")\n",
        "    print(f\"  Successfully generated: {len([t for t in results['generated_titles'] if t and 'failed' not in t])}\")\n",
        "    print(f\"  Total samples: {len(results['generated_titles'])}\")\n",
        "    print(f\"  Success rate: {len([t for t in results['generated_titles'] if t and 'failed' not in t]) / len(results['generated_titles']):.2%}\")\n",
        "else:\n",
        "    print(\"Generation failed\")"
      ]
    },
    {
      "cell_type": "code",
      "execution_count": 11,
      "metadata": {},
      "outputs": [
        {
          "name": "stdout",
          "output_type": "stream",
          "text": [
            "Generation result samples:\n",
            "\n",
            "Sample 1:\n",
            "  Generated title: High-Stakes Legal Battle Erupts Over Trump's Rollback of Obama-Era Pollution Rules\n",
            "  Reference title: legal battle looms over trump epa's rule change of obama's clean power plan rule\n",
            "  User interests: news\n",
            "  News category: news\n",
            "--------------------------------------------------\n",
            "Sample 2:\n",
            "  Generated title: Retro Homes The One Design Trend That Instantly Dates Your House\n",
            "  Reference title: wise choices for stylish updating of old homes\n",
            "  User interests: news\n",
            "  News category: lifestyle\n",
            "--------------------------------------------------\n",
            "Sample 3:\n",
            "  Generated title: Verlander Scolded by MLB Over Ball-Tampering Claims Ahead of All-Star Game\n",
            "  Reference title: verlander may be reconsidering his stance on mlbs juicing balls\n",
            "  User interests: news\n",
            "  News category: sports\n",
            "--------------------------------------------------\n",
            "Sample 4:\n",
            "  Generated title: O.J. Simpson Joins Twitter, Vows to 'Get Even' in Controversial Comeback\n",
            "  Reference title: infamous o.j. simpson launching official twitter account\n",
            "  User interests: news\n",
            "  News category: tv\n",
            "--------------------------------------------------\n",
            "Sample 5:\n",
            "  Generated title: Year-Old Coco Gauff Stuns Venus Williams in Historic Wimbledon Upset\n",
            "  Reference title: 15 year old cori gauff beats venus williams at wimbledon\n",
            "  User interests: news\n",
            "  News category: sports\n",
            "--------------------------------------------------\n"
          ]
        }
      ],
      "source": [
        "# View generation result samples\n",
        "if 'generator' in locals() and generator.results['generated_titles']:\n",
        "    print(\"Generation result samples:\\n\")\n",
        "    \n",
        "    for i in range(min(5, len(generator.results['generated_titles']))):\n",
        "        gen_title = generator.results['generated_titles'][i]\n",
        "        ref_title = generator.results['reference_titles'][i]\n",
        "        user_interest = generator.results['user_interests'][i]['primary_interest']\n",
        "        category = generator.results['news_categories'][i]\n",
        "        \n",
        "        print(f\"Sample {i+1}:\")\n",
        "        print(f\"  Generated title: {gen_title}\")\n",
        "        print(f\"  Reference title: {ref_title}\")\n",
        "        print(f\"  User interests: {user_interest}\")\n",
        "        print(f\"  News category: {category}\")\n",
        "        print(\"-\" * 50)"
      ]
    },
    {
      "cell_type": "markdown",
      "metadata": {},
      "source": [
        "## 9. Effect Evaluation\n",
        "\n",
        "Evaluate generation effectiveness using ROUGE and other metrics"
      ]
    },
    {
      "cell_type": "code",
      "execution_count": 12,
      "metadata": {},
      "outputs": [
        {
          "name": "stderr",
          "output_type": "stream",
          "text": [
            "2025-06-22 21:21:48,570 - main - INFO - Starting evaluation of generation results...\n",
            "2025-06-22 21:21:48,577 - evaluator - INFO - ROUGE evaluation completed, valid samples: 20\n",
            "2025-06-22 21:21:48,577 - evaluator - INFO - Starting LLM personalization evaluation...\n",
            "2025-06-22 21:21:48,578 - llm_client - INFO - Sending API request (attempt 1/3)\n"
          ]
        },
        {
          "name": "stdout",
          "output_type": "stream",
          "text": [
            "Starting effect evaluation (including LLM evaluation)...\n",
            "\n"
          ]
        },
        {
          "name": "stderr",
          "output_type": "stream",
          "text": [
            "2025-06-22 21:21:55,837 - httpx - INFO - HTTP Request: POST https://api.chavapa.com/v1/chat/completions \"HTTP/1.1 200 OK\"\n",
            "2025-06-22 21:21:55,838 - llm_client - INFO - Get content from content field (chat model): ,8.0,6.0,5.0,6.5 3.0,4.0,2.5,3.5,3.0 4.0,3.0,3.5,4.0,3.5 5.0,4.0,4.5,5.0,4.5 4.5,3.0,3.5,4.0,3.5\n",
            "2025-06-22 21:21:55,838 - llm_client - INFO - This request used 1102 tokens, total 1102 tokens\n",
            "2025-06-22 21:21:55,839 - evaluator - INFO - Personalization evaluation parsing complete, 1 score groups\n",
            "2025-06-22 21:21:55,839 - llm_client - INFO - Sending API request (attempt 1/3)\n",
            "2025-06-22 21:22:14,256 - httpx - INFO - HTTP Request: POST https://api.chavapa.com/v1/chat/completions \"HTTP/1.1 200 OK\"\n",
            "2025-06-22 21:22:14,258 - llm_client - INFO - Get content from content field (chat model): ,8.0,7.0,6.0,7.0 3.0,2.0,4.0,5.0,3.5 6.5,8.0,7.5,7.0,7.0 2.0,1.0,3.0,4.0,2.5 4.0,3.0,5.0,5.5,4.5\n",
            "2025-06-22 21:22:14,258 - llm_client - INFO - This request used 1094 tokens, total 2196 tokens\n",
            "2025-06-22 21:22:14,259 - evaluator - INFO - Personalization evaluation parsing complete, 1 score groups\n",
            "2025-06-22 21:22:14,259 - llm_client - INFO - Sending API request (attempt 1/3)\n",
            "2025-06-22 21:22:18,654 - httpx - INFO - HTTP Request: POST https://api.chavapa.com/v1/chat/completions \"HTTP/1.1 200 OK\"\n",
            "2025-06-22 21:22:18,656 - llm_client - INFO - Get content from content field (chat model): ,8.0,6.0,7.0,7.0 8.0,8.5,5.0,7.5,7.0 3.0,2.0,1.0,2.0,2.0 7.0,8.0,6.5,7.5,7.0 4.0,3.0,2.0,3.0,3.0\n",
            "2025-06-22 21:22:18,656 - llm_client - INFO - This request used 1113 tokens, total 3309 tokens\n",
            "2025-06-22 21:22:18,657 - evaluator - INFO - Personalization evaluation parsing complete, 1 score groups\n",
            "2025-06-22 21:22:18,657 - llm_client - INFO - Sending API request (attempt 1/3)\n",
            "2025-06-22 21:22:22,566 - httpx - INFO - HTTP Request: POST https://api.chavapa.com/v1/chat/completions \"HTTP/1.1 200 OK\"\n",
            "2025-06-22 21:22:22,568 - llm_client - INFO - Get content from content field (chat model): ,4.0,3.5,5.0,3.8 5.0,4.0,4.5,6.0,4.8 4.0,4.0,4.0,5.0,4.2 7.0,8.0,7.5,6.0,7.2 4.0,4.0,4.0,5.0,4.2\n",
            "2025-06-22 21:22:22,568 - llm_client - INFO - This request used 1090 tokens, total 4399 tokens\n",
            "2025-06-22 21:22:22,569 - evaluator - INFO - Personalization evaluation parsing complete, 1 score groups\n",
            "2025-06-22 21:22:22,569 - evaluator - INFO - Starting LLM quality evaluation...\n",
            "2025-06-22 21:22:22,570 - evaluator - INFO - Starting LLM quality evaluation...\n",
            "2025-06-22 21:22:22,570 - evaluator - INFO - LLM quality evaluation ready, 20 samples total\n",
            "2025-06-22 21:22:22,571 - evaluator - INFO - Evaluating batch 1, containing 5 titles\n",
            "2025-06-22 21:22:22,571 - llm_client - INFO - Sending API request (attempt 1/3)\n",
            "2025-06-22 21:22:27,313 - httpx - INFO - HTTP Request: POST https://api.chavapa.com/v1/chat/completions \"HTTP/1.1 200 OK\"\n",
            "2025-06-22 21:22:27,314 - llm_client - INFO - Get content from content field (chat model): ,8.5,9.5,8.0,8.8 5.0,6.5,4.0,7.0,5.5 7.5,8.0,6.5,7.5,7.3 8.0,9.5,8.0,7.0,8.3 9.5,9.0,8.5,8.5,9.0\n",
            "2025-06-22 21:22:27,314 - llm_client - INFO - This request used 802 tokens, total 5201 tokens\n",
            "2025-06-22 21:22:27,316 - evaluator - INFO - Parsing complete, 5 score groups, 5 values per group\n",
            "2025-06-22 21:22:27,316 - evaluator - INFO - Batch evaluation successful, obtained 5 scores\n",
            "2025-06-22 21:22:27,317 - evaluator - INFO - Evaluating batch 2, containing 5 titles\n",
            "2025-06-22 21:22:27,317 - llm_client - INFO - Sending API request (attempt 1/3)\n",
            "2025-06-22 21:22:31,378 - httpx - INFO - HTTP Request: POST https://api.chavapa.com/v1/chat/completions \"HTTP/1.1 200 OK\"\n",
            "2025-06-22 21:22:31,379 - llm_client - INFO - Get content from content field (chat model): ,7.5,5.0,6.0,6.0 7.5,8.0,7.0,6.5,7.0 8.0,8.5,8.0,7.5,8.0 7.5,8.0,7.5,7.0,7.5 9.0,9.5,9.0,8.5,9.0\n",
            "2025-06-22 21:22:31,379 - llm_client - INFO - This request used 775 tokens, total 5976 tokens\n",
            "2025-06-22 21:22:31,380 - evaluator - INFO - Parsing complete, 5 score groups, 5 values per group\n",
            "2025-06-22 21:22:31,380 - evaluator - INFO - Batch evaluation successful, obtained 5 scores\n",
            "2025-06-22 21:22:31,381 - evaluator - INFO - Evaluating batch 3, containing 5 titles\n",
            "2025-06-22 21:22:31,381 - llm_client - INFO - Sending API request (attempt 1/3)\n",
            "2025-06-22 21:23:04,751 - httpx - INFO - HTTP Request: POST https://api.chavapa.com/v1/chat/completions \"HTTP/1.1 200 OK\"\n",
            "2025-06-22 21:23:04,753 - llm_client - INFO - Get content from content field (chat model): ,8.0,9.0,7.5,8.5 7.5,8.5,7.0,6.5,7.5 9.0,7.0,8.5,8.0,8.0 6.0,7.5,6.5,6.0,6.5 8.0,7.5,8.0,7.0,7.5\n",
            "2025-06-22 21:23:04,753 - llm_client - INFO - This request used 813 tokens, total 6789 tokens\n",
            "2025-06-22 21:23:04,753 - evaluator - INFO - Parsing complete, 5 score groups, 5 values per group\n",
            "2025-06-22 21:23:04,754 - evaluator - INFO - Batch evaluation successful, obtained 5 scores\n",
            "2025-06-22 21:23:04,754 - evaluator - INFO - Evaluating batch 4, containing 5 titles\n",
            "2025-06-22 21:23:04,754 - llm_client - INFO - Sending API request (attempt 1/3)\n",
            "2025-06-22 21:23:08,920 - httpx - INFO - HTTP Request: POST https://api.chavapa.com/v1/chat/completions \"HTTP/1.1 200 OK\"\n",
            "2025-06-22 21:23:08,921 - llm_client - INFO - Get content from content field (chat model): ,9.0,9.0,8.5,8.8 9.0,9.5,9.5,8.5,9.2 6.5,7.0,7.0,6.0,6.6 8.0,8.5,8.5,7.5,8.1 8.0,8.0,8.5,7.5,8.0\n",
            "2025-06-22 21:23:08,922 - llm_client - INFO - This request used 798 tokens, total 7587 tokens\n",
            "2025-06-22 21:23:08,922 - evaluator - INFO - Parsing complete, 5 score groups, 5 values per group\n",
            "2025-06-22 21:23:08,922 - evaluator - INFO - Batch evaluation successful, obtained 5 scores\n",
            "2025-06-22 21:23:08,924 - evaluator - INFO - LLM quality evaluation complete, average score: 0.783\n",
            "2025-06-22 21:23:08,925 - evaluator - INFO - Evaluation report saved to: ./outputs/evaluation_results\\evaluation_report_20250622_212308.txt\n",
            "2025-06-22 21:23:08,927 - evaluator - INFO - Detailed evaluation results saved to: ./outputs/evaluation_results\\detailed_evaluation_20250622_212308.json\n"
          ]
        },
        {
          "name": "stdout",
          "output_type": "stream",
          "text": [
            "\n",
            "================================================================================\n",
            "Personalized News Headline Generation - Detailed Evaluation Report\n",
            "================================================================================\n",
            "\n",
            "Basic Statistics:\n",
            "├─ Total samples: 20\n",
            "├─ Valid samples: 20\n",
            "└─ Success rate: 100.00%\n",
            "\n",
            "ROUGE Scores (Automatic Evaluation - Similarity to Reference Titles):\n",
            "├─ ROUGE-1 F-Score: 0.3286\n",
            "├─ ROUGE-2 F-Score: 0.1238\n",
            "└─ ROUGE-L F-Score: 0.2938\n",
            "\n",
            "LLM Quality Evaluation Details:\n",
            "├─ Quality score (0-1): 0.7830\n",
            "├─ Equivalent 10-point scale: 7.83/10\n",
            "└─ Score standard deviation: 0.0000\n",
            "\n",
            "LLM Personalization Evaluation (Large Model Scoring - Personalization Degree):\n",
            "├─ Interest matching: 0.7000\n",
            "├─ Category relevance: 0.5625\n",
            "├─ History consistency: 0.5750\n",
            "├─ Personalization innovation: 0.6075\n",
            "└─ LLM overall personalization: 0.4750\n",
            "\n",
            "Title Quality Evaluation (Automatic Evaluation - Rule-based):\n",
            "├─ Length reasonableness: 0.9250\n",
            "├─ Title diversity: 1.0000\n",
            "└─ Average title length: 75.2 characters\n",
            "\n",
            "Comprehensive Score Details (Weighted Calculation):\n",
            "├─ ROUGE score (weight 35%): 0.2487\n",
            "├─ LLM quality score (weight 30%): 0.7830\n",
            "├─ LLM personalization score (weight 25%): 0.4750\n",
            "├─ Title quality score (weight 10%): 0.9625\n",
            "└─ Final comprehensive score: 0.5370\n",
            "\n",
            "Scoring Explanation:\n",
            "• ROUGE score (35%): Measures lexical overlap between generated titles and reference titles\n",
            "• LLM quality score (30%): Large model evaluation from accuracy, attractiveness, clarity dimensions\n",
            "• LLM personalization score (25%): Large model evaluation of title quality from personalization perspective\n",
            "• Title quality score (10%): Rule-based evaluation based on length reasonableness, diversity, etc.\n",
            "• Final score: Weighted average of all scores (range 0-1)\n",
            "\n",
            "Note: This evaluation integrates ROUGE automatic evaluation and LLM intelligent evaluation, comprehensively reflecting title generation quality\n",
            "\n"
          ]
        },
        {
          "name": "stderr",
          "output_type": "stream",
          "text": [
            "2025-06-22 21:23:09,495 - evaluator - INFO - Evaluation chart saved to: ./outputs/evaluation_results\\evaluation_chart_20250622_212308.png\n"
          ]
        }
      ],
      "source": [
        "# Run evaluation (integrated LLM evaluation)\n",
        "if 'generator' in locals() and generator.results['generated_titles']:\n",
        "    print(\"Starting effect evaluation (including LLM evaluation)...\\n\")\n",
        "    \n",
        "    # Execute comprehensive evaluation\n",
        "    success = generator.run_evaluation()\n",
        "    \n",
        "    if success:\n",
        "        eval_results = generator.evaluator.evaluation_results\n",
        "        \n",
        "    else:\n",
        "        print(\"Evaluation failed\")\n",
        "else:\n",
        "    print(\"No generation results to evaluate\")"
      ]
    },
    {
      "cell_type": "code",
      "execution_count": 13,
      "metadata": {},
      "outputs": [
        {
          "data": {
            "image/png": "[encoded data removed]",
            "text/plain": [
              "<Figure size 1200x1000 with 4 Axes>"
            ]
          },
          "metadata": {},
          "output_type": "display_data"
        },
        {
          "name": "stdout",
          "output_type": "stream",
          "text": [
            "Visualization results saved to: ./outputs/evaluation_results_chart.png\n"
          ]
        },
        {
          "data": {
            "text/plain": [
              "<Figure size 640x480 with 0 Axes>"
            ]
          },
          "metadata": {},
          "output_type": "display_data"
        }
      ],
      "source": [
        "# Visualize evaluation results\n",
        "if 'generator' in locals() and hasattr(generator.evaluator, 'evaluation_results') and generator.evaluator.evaluation_results:\n",
        "    eval_results = generator.evaluator.evaluation_results\n",
        "    \n",
        "    # Create evaluation results visualization\n",
        "    fig, axes = plt.subplots(2, 2, figsize=(12, 10))\n",
        "    fig.suptitle('Personalized News Headline Generation - Evaluation Results Visualization', fontsize=16)\n",
        "    \n",
        "    # 1. ROUGE scores\n",
        "    rouge_scores = eval_results.get('rouge_scores', {})\n",
        "    if rouge_scores:\n",
        "        rouge_metrics = [k.replace('_f', '') for k in rouge_scores.keys() if k.endswith('_f')]\n",
        "        rouge_values = [rouge_scores.get(f'{m}_f', 0) for m in rouge_metrics]\n",
        "        \n",
        "        axes[0, 0].bar(rouge_metrics, rouge_values, color='skyblue', alpha=0.8)\n",
        "        axes[0, 0].set_title('ROUGE F-Scores')\n",
        "        axes[0, 0].set_ylabel('Score')\n",
        "        axes[0, 0].set_ylim(0, 1)\n",
        "        for i, v in enumerate(rouge_values):\n",
        "            axes[0, 0].text(i, v + 0.01, f'{v:.3f}', ha='center', va='bottom')\n",
        "    else:\n",
        "        axes[0, 0].text(0.5, 0.5, 'ROUGE data\\nnot available', ha='center', va='center', \n",
        "                       transform=axes[0, 0].transAxes, fontsize=12)\n",
        "        axes[0, 0].set_title('ROUGE F-Scores')\n",
        "    \n",
        "    # 2. LLM personalization evaluation\n",
        "    llm_personalization = eval_results.get('llm_personalization', {})\n",
        "    if llm_personalization:\n",
        "        pers_labels = ['Interest\\nMatch', 'Category\\nRelevance']\n",
        "        pers_values = [llm_personalization.get('llm_interest_match', 0), \n",
        "                      llm_personalization.get('llm_category_relevance', 0)]\n",
        "        \n",
        "        axes[0, 1].bar(pers_labels, pers_values, color='lightcoral', alpha=0.8)\n",
        "        axes[0, 1].set_title('LLM Personalization Evaluation')\n",
        "        axes[0, 1].set_ylabel('Score')\n",
        "        axes[0, 1].set_ylim(0, 1)\n",
        "        for i, v in enumerate(pers_values):\n",
        "            axes[0, 1].text(i, v + 0.01, f'{v:.3f}', ha='center', va='bottom')\n",
        "    else:\n",
        "        axes[0, 1].text(0.5, 0.5, 'LLM personalization data\\nnot available', ha='center', va='center', \n",
        "                       transform=axes[0, 1].transAxes, fontsize=12)\n",
        "        axes[0, 1].set_title('LLM Personalization Evaluation')\n",
        "    \n",
        "    # 3. Title Quality\n",
        "    title_quality = eval_results.get('title_quality', {})\n",
        "    if title_quality:\n",
        "        quality_labels = ['Length\\nReasonableness', 'Title\\nDiversity']\n",
        "        quality_values = [title_quality.get('length_reasonableness', 0), \n",
        "                         title_quality.get('title_diversity', 0)]\n",
        "        \n",
        "        axes[1, 0].bar(quality_labels, quality_values, color='lightgreen', alpha=0.8)\n",
        "        axes[1, 0].set_title('Title Quality')\n",
        "        axes[1, 0].set_ylabel('Score')\n",
        "        axes[1, 0].set_ylim(0, 1)\n",
        "        for i, v in enumerate(quality_values):\n",
        "            axes[1, 0].text(i, v + 0.01, f'{v:.3f}', ha='center', va='bottom')\n",
        "    else:\n",
        "        axes[1, 0].text(0.5, 0.5, 'Title quality data\\nnot available', ha='center', va='center', \n",
        "                       transform=axes[1, 0].transAxes, fontsize=12)\n",
        "        axes[1, 0].set_title('Title Quality')\n",
        "    \n",
        "    # 4. Overall Score Pie Chart\n",
        "    overall_score = eval_results.get('overall_score', 0)\n",
        "    \n",
        "    # Handle possible dictionary type\n",
        "    if isinstance(overall_score, dict):\n",
        "        comprehensive_scores = eval_results.get('comprehensive_scores', {})\n",
        "        overall_score = comprehensive_scores.get('final_comprehensive_score', 0)\n",
        "    \n",
        "    # Ensure score is within 0-1 range\n",
        "    overall_score = max(0.0, min(1.0, overall_score))\n",
        "    remaining_score = 1.0 - overall_score\n",
        "    \n",
        "    colors = ['gold', 'lightgray']\n",
        "    axes[1, 1].pie([overall_score, remaining_score], \n",
        "                   labels=['Achieved', 'To Improve'], \n",
        "                   colors=colors,\n",
        "                   autopct='%1.1f%%',\n",
        "                   startangle=90)\n",
        "    axes[1, 1].set_title(f'Overall Score: {overall_score:.3f}')\n",
        "    \n",
        "    plt.tight_layout()\n",
        "    plt.show()\n",
        "    \n",
        "    # Save visualization chart\n",
        "    output_path = './outputs/evaluation_results_chart.png'\n",
        "    plt.savefig(output_path, dpi=300, bbox_inches='tight')\n",
        "    print(f\"Visualization results saved to: {output_path}\")\n",
        "    \n",
        "else:\n",
        "    print(\"No evaluation results to visualize\")\n"
      ]
    },
    {
      "cell_type": "markdown",
      "metadata": {},
      "source": [
        "## 10. Results Analysis and Summary"
      ]
    },
    {
      "cell_type": "code",
      "execution_count": 14,
      "metadata": {},
      "outputs": [
        {
          "name": "stdout",
          "output_type": "stream",
          "text": [
            "Project Summary and Analysis\n",
            "\n",
            "Successfully Implemented Features:\n",
            "  1. Data Preprocessing - Extract user history and interests from PENS data\n",
            "  2. Prompt Engineering - Design multiple styles of personalized generation prompts\n",
            "  3. API Integration - Successfully call DeepSeek large model API\n",
            "  4. Batch Generation - Support both single and batch generation modes\n",
            "  5. Effect Evaluation - Comprehensive evaluation using ROUGE and other metrics\n",
            "\n",
            "Technical Highlights:\n",
            "  • Adaptive Prompt Design - Automatically select optimal prompt style based on user interests and content length\n",
            "  • Token Optimization Strategy - Intelligently compress prompts to maximize effectiveness within 50k token limit\n",
            "  • Batch Processing Optimization - Reduce API call frequency and improve cost efficiency\n",
            "  • Multi-dimensional Evaluation - Not only evaluate ROUGE scores, but also include personalization level and title quality\n",
            "\n",
            "Efficiency Analysis:\n",
            "  Processed samples: 20\n",
            "  API requests: 20\n",
            "  Average requests per sample: 1.00\n",
            "  Total token usage: 8461\n",
            "  Average tokens per sample: 423.1\n",
            "  API success rate: 100.00%\n"
          ]
        }
      ],
      "source": [
        "print(\"Project Summary and Analysis\\n\")\n",
        "\n",
        "print(\"Successfully Implemented Features:\")\n",
        "print(\"  1. Data Preprocessing - Extract user history and interests from PENS data\")\n",
        "print(\"  2. Prompt Engineering - Design multiple styles of personalized generation prompts\")\n",
        "print(\"  3. API Integration - Successfully call DeepSeek large model API\")\n",
        "print(\"  4. Batch Generation - Support both single and batch generation modes\")\n",
        "print(\"  5. Effect Evaluation - Comprehensive evaluation using ROUGE and other metrics\")\n",
        "\n",
        "print(\"\\nTechnical Highlights:\")\n",
        "print(\"  • Adaptive Prompt Design - Automatically select optimal prompt style based on user interests and content length\")\n",
        "print(\"  • Token Optimization Strategy - Intelligently compress prompts to maximize effectiveness within 50k token limit\")\n",
        "print(\"  • Batch Processing Optimization - Reduce API call frequency and improve cost efficiency\")\n",
        "print(\"  • Multi-dimensional Evaluation - Not only evaluate ROUGE scores, but also include personalization level and title quality\")\n",
        "\n",
        "if 'generator' in locals() and generator.results['generated_titles']:\n",
        "    # API usage efficiency analysis\n",
        "    total_samples = len(generator.results['generated_titles'])\n",
        "    \n",
        "    print(f\"\\nEfficiency Analysis:\")\n",
        "    print(f\"  Processed samples: {total_samples}\")\n",
        "    print(f\"  API requests: {generator.llm_client.total_requests}\")\n",
        "    print(f\"  Average requests per sample: {generator.llm_client.total_requests / total_samples:.2f}\")\n",
        "    print(f\"  Total token usage: {generator.llm_client.total_tokens_used}\")\n",
        "    print(f\"  Average tokens per sample: {generator.llm_client.total_tokens_used / total_samples:.1f}\")\n",
        "    print(f\"  API success rate: {((generator.llm_client.total_requests - generator.llm_client.failed_requests) / max(generator.llm_client.total_requests, 1)):.2%}\")"
      ]
    },
    {
      "cell_type": "markdown",
      "metadata": {},
      "source": [
        "## 11. Export and Save Results\n",
        "\n",
        "Export generation results and evaluation reports for further analysis"
      ]
    },
    {
      "cell_type": "code",
      "execution_count": 15,
      "metadata": {},
      "outputs": [
        {
          "name": "stdout",
          "output_type": "stream",
          "text": [
            "Notebook summary saved to: ./outputs\\notebook_summary_20250622_212309.txt\n",
            "Complete results folder: ./outputs\n",
            "\n",
            "Generated files:\n",
            "  evaluation_results_chart.png\n",
            "  notebook_summary_20250619_004722.txt\n",
            "  notebook_summary_20250622_202627.txt\n",
            "  notebook_summary_20250622_212309.txt\n",
            "  evaluation_results\\detailed_evaluation_20250619_004721.json\n",
            "  evaluation_results\\detailed_evaluation_20250622_202627.json\n",
            "  evaluation_results\\detailed_evaluation_20250622_212308.json\n",
            "  evaluation_results\\evaluation_chart_20250619_004721.png\n",
            "  evaluation_results\\evaluation_chart_20250622_202627.png\n",
            "  evaluation_results\\evaluation_chart_20250622_212308.png\n",
            "  evaluation_results\\evaluation_report_20250619_004721.txt\n",
            "  evaluation_results\\evaluation_report_20250622_202627.txt\n",
            "  evaluation_results\\evaluation_report_20250622_212308.txt\n",
            "  generated_titles\\generation_results_20250619_004632.json\n",
            "  generated_titles\\generation_results_20250622_202549.json\n",
            "  generated_titles\\generation_results_20250622_212148.json\n",
            "  generated_titles\\title_comparison_20250619_004632.txt\n",
            "  generated_titles\\title_comparison_20250622_202549.txt\n",
            "  generated_titles\\title_comparison_20250622_212148.txt\n",
            "  processed_data\\data_stats.json\n",
            "  processed_data\\test_samples.json\n",
            "  processed_data\\user_histories.json\n",
            "  processed_data\\user_interests.json\n"
          ]
        }
      ],
      "source": [
        "# Create project summary report\n",
        "if 'generator' in locals() and generator.results['generated_titles']:\n",
        "    timestamp = datetime.now().strftime(\"%Y%m%d_%H%M%S\")\n",
        "    \n",
        "    # Save notebook execution summary\n",
        "    summary_path = os.path.join(DATA_PATHS['output_dir'], f'notebook_summary_{timestamp}.txt')\n",
        "    \n",
        "    with open(summary_path, 'w', encoding='utf-8') as f:\n",
        "        f.write(\"Personalized News Headline Generation Based on Prompt Engineering - Notebook Execution Summary\\n\")\n",
        "        f.write(\"=\" * 60 + \"\\n\\n\")\n",
        "        \n",
        "        f.write(f\"Execution time: {datetime.now().strftime('%Y-%m-%d %H:%M:%S')}\\n\")\n",
        "        f.write(f\"Processed samples: {len(generator.results['generated_titles'])}\\n\")\n",
        "        \n",
        "        f.write(f\"API requests: {generator.llm_client.total_requests}\\n\")\n",
        "        f.write(f\"Token usage: {generator.llm_client.total_tokens_used}\\n\")\n",
        "        f.write(f\"API success rate: {((generator.llm_client.total_requests - generator.llm_client.failed_requests) / max(generator.llm_client.total_requests, 1)):.2%}\\n\\n\")\n",
        "        \n",
        "        if hasattr(generator.evaluator, 'evaluation_results'):\n",
        "            eval_results = generator.evaluator.evaluation_results\n",
        "            overall_score = eval_results.get('overall_score', 0)\n",
        "            \n",
        "            # Ensure overall_score is numeric type\n",
        "            if isinstance(overall_score, dict):\n",
        "                comprehensive_scores = eval_results.get('comprehensive_scores', {})\n",
        "                overall_score = comprehensive_scores.get('final_comprehensive_score', 0)\n",
        "            \n",
        "            f.write(f\"Overall score: {overall_score:.4f}\\n\")\n",
        "            \n",
        "            rouge_scores = eval_results.get('rouge_scores', {})\n",
        "            if rouge_scores:\n",
        "                f.write(\"\\nROUGE Scores:\\n\")\n",
        "                for metric, score in rouge_scores.items():\n",
        "                    if metric.endswith('_f'):\n",
        "                        f.write(f\"  {metric.replace('_f', '').upper()}: {score:.4f}\\n\")\n",
        "        \n",
        "        f.write(\"\\n\" + \"=\" * 60 + \"\\n\")\n",
        "        f.write(\"Please check the corresponding output folder for detailed results\")\n",
        "    \n",
        "    print(f\"Notebook summary saved to: {summary_path}\")\n",
        "    print(f\"Complete results folder: {DATA_PATHS['output_dir']}\")\n",
        "    \n",
        "    # List generated files\n",
        "    print(\"\\nGenerated files:\")\n",
        "    for root, dirs, files in os.walk(DATA_PATHS['output_dir']):\n",
        "        for file in files:\n",
        "            file_path = os.path.join(root, file)\n",
        "            rel_path = os.path.relpath(file_path, DATA_PATHS['output_dir'])\n",
        "            print(f\"  {rel_path}\")\n",
        "else:\n",
        "    print(\"No results to export\")"
      ]
    }
  ],
  "metadata": {
    "kernelspec": {
      "display_name": "base",
      "language": "python",
      "name": "python3"
    },
    "language_info": {
      "codemirror_mode": {
        "name": "ipython",
        "version": 3
      },
      "file_extension": ".py",
      "mimetype": "text/x-python",
      "name": "python",
      "nbconvert_exporter": "python",
      "pygments_lexer": "ipython3",
      "version": "3.12.3"
    }
  },
  "nbformat": 4,
  "nbformat_minor": 4
}
